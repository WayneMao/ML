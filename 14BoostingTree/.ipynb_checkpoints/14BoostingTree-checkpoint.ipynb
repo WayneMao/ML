{
 "cells": [
  {
   "attachments": {},
   "cell_type": "markdown",
   "metadata": {},
   "source": [
    "## 14 提升树：许多“学渣”共同决策\n",
    "\n",
    "### 14.1 提升树的核心思想\n",
    "Bagging是很多过拟合的weak leaner来组成，Boosting是很多欠拟合的weak learner来组成，这就是它们之间核心的区别。   \n",
    "\n",
    "上面这句话或许有点难理解，可以举个例子：Bagging模型可以理解成由很多顶级的专家来组成，但这些专家呢，都自以为很厉害都听不进去别人的话，所以遇到新的问题适应能力稍微弱一些。但是呢，让这些专家通过合作来做事情的时候就非常厉害。\n",
    "\n",
    "另外一方面，Boosting模型可以理解成由很多学渣来组成，每一个人的能力都挺弱的，而且不能够独当一面。但是呢，当很多这批人一起合作的时候却能带来很厉害的结果。\n",
    "\n",
    "Boosting方法很多时候比Bagging还要厉害！而且在过拟合问题的解决上，Boosting也被证明出更加有效。  \n",
    "可以搜索 \"generalization bound\", \"PAC learning\"等关键词来了解一下Boosting在这块的一些理论工作。"
   ]
  },
  {
   "cell_type": "code",
   "execution_count": null,
   "metadata": {},
   "outputs": [],
   "source": []
  },
  {
   "cell_type": "code",
   "execution_count": null,
   "metadata": {},
   "outputs": [],
   "source": []
  },
  {
   "cell_type": "code",
   "execution_count": null,
   "metadata": {},
   "outputs": [],
   "source": []
  }
 ],
 "metadata": {
  "kernelspec": {
   "display_name": "Python 3",
   "language": "python",
   "name": "python3"
  },
  "language_info": {
   "codemirror_mode": {
    "name": "ipython",
    "version": 3
   },
   "file_extension": ".py",
   "mimetype": "text/x-python",
   "name": "python",
   "nbconvert_exporter": "python",
   "pygments_lexer": "ipython3",
   "version": "3.7.4"
  }
 },
 "nbformat": 4,
 "nbformat_minor": 2
}
