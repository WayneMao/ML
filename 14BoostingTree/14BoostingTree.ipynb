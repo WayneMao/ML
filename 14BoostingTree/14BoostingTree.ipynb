{
 "cells": [
  {
   "attachments": {},
   "cell_type": "markdown",
   "metadata": {},
   "source": [
    "## 14 提升树：许多“学渣”共同决策\n",
    "\n",
    "### 14.1 提升树的核心思想\n",
    "Bagging是很多过拟合的weak leaner来组成，Boosting是很多欠拟合的weak learner来组成，这就是它们之间核心的区别。   \n",
    "\n",
    "上面这句话或许有点难理解，可以举个例子：Bagging模型可以理解成由很多顶级的专家来组成，但这些专家呢，都自以为很厉害都听不进去别人的话，所以遇到新的问题适应能力稍微弱一些。但是呢，让这些专家通过合作来做事情的时候就非常厉害。\n",
    "\n",
    "另外一方面，Boosting模型可以理解成由很多学渣来组成，每一个人的能力都挺弱的，而且不能够独当一面。但是呢，当很多这批人一起合作的时候却能带来很厉害的结果。\n",
    "\n",
    "Boosting方法很多时候比Bagging还要厉害！而且在过拟合问题的解决上，Boosting也被证明出更加有效。  \n",
    "可以搜索 \"generalization bound\", \"PAC learning\"等关键词来了解一下Boosting在这块的一些理论工作。\n",
    "\n",
    "最初提出来的Boosting方法叫作Adaboost，目前用得不多。但它的思想一步步被学者们利用被改进，最后衍生出了很多流行的模型，比如**GBDT、XGBoost**等模型。\n",
    "特别是最近几年，很多工业级应用中都倾向于使用Boosting，也证实了它在实际问题中的有效性。\n"
   ]
  },
  {
   "cell_type": "markdown",
   "metadata": {},
   "source": [
    "### 14.2 基于残差的训练方式\n",
    "**基于残差(residual)的训练**方式跟Bagging的训练是有很大区别的。Bagging的训练可以理解为并行的训练，其实每一个模型训练时都互不干涉的。但基于残差的Boosting模型的训练是串行的。 \n",
    "\n",
    "总体来讲，就是模型1还没有解决的部分(残差)，让模型2去解决，模型2还没有解决的再由模型3来解决，以此类推…  \n",
    "**最终预测** = 模型1的预测 + 模型2的预测 + 模型3的预测 + ···\n",
    "\n",
    "一个求平均，一个求和，这是跟Bagging的本质区别。  \n",
    "Boosting里最为流行的模型称作XGBoost。 具体论文地址请参考：https://www.kdd.org/kdd2016/papers/files/rfp0697-chenAemb.pdf  \n",
    "\n",
    "**XGBoosting**是工业界、kaggle比赛大杀器。学习路径如下：  \n",
    "> - 如何构造目标函数？  \n",
    "- 目标函数直接优化难，如何近似？\n",
    "- 如何把树的结构引入到目标函数？\n",
    "- 仍然难优化，考虑使用贪心算法？\n",
    "\n",
    "\n",
    "Reference:   \n",
    "[通俗理解kaggle比赛大杀器xgboost](https://blog.csdn.net/v_july_v/article/details/81410574)  \n",
    "XGBoost具体论文地址请参考：https://www.kdd.org/kdd2016/papers/files/rfp0697-chenAemb.pdf    \n",
    "XGBoost学习最好的资源无非是Tianqi自己写的PPT，链接请参考：https://homes.cs.washington.edu/~tqchen/pdf/BoostedTree.pdf"
   ]
  },
  {
   "attachments": {},
   "cell_type": "markdown",
   "metadata": {},
   "source": [
    "### 14.3 XGBoost的目标函数构建\n"
   ]
  },
  {
   "cell_type": "code",
   "execution_count": null,
   "metadata": {},
   "outputs": [],
   "source": []
  }
 ],
 "metadata": {
  "kernelspec": {
   "display_name": "Python 3",
   "language": "python",
   "name": "python3"
  },
  "language_info": {
   "codemirror_mode": {
    "name": "ipython",
    "version": 3
   },
   "file_extension": ".py",
   "mimetype": "text/x-python",
   "name": "python",
   "nbconvert_exporter": "python",
   "pygments_lexer": "ipython3",
   "version": "3.7.4"
  }
 },
 "nbformat": 4,
 "nbformat_minor": 2
}
