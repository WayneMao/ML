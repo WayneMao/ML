{
 "cells": [
  {
   "cell_type": "markdown",
   "metadata": {},
   "source": [
    "## 13 基于集成学习模型的股价预测\n",
    "### 13.1 股价预测相关背景知识\n",
    "股价预测这个领域属于量化投资，也就是通过数量化的方式和模型去做投资决策。量化投资是一个很庞大的领域，从量化投资开始至今，衍生出了大量的投资理念和策略。  \n",
    "\n",
    "这里需要了解一些基本概念和K线图等。\n",
    "\n",
    "**[Tushare接口](http://tushare.org/)**：这个API可以获取一些股票行情\n",
    "\n",
    "### 13.2 特征工程技术\n",
    "主要学习从给定的股票行情数据构建训练样本，以及学习股票特征工程技术。  \n",
    "\n",
    "### 13.3 评估标准: 准确率\n",
    "一般的量化投资系统都是以收益率作为评估标准。  \n",
    "\n",
    "在量化投资中，我们也经常使用多因子模型(multi-factor model)，其核心也是寻找有效的信号。\n",
    "\n",
    "Reference：  \n",
    "[股票技术指标公式](http://www.yingjia360.com/gongshi/)"
   ]
  },
  {
   "cell_type": "code",
   "execution_count": null,
   "metadata": {},
   "outputs": [],
   "source": []
  }
 ],
 "metadata": {
  "kernelspec": {
   "display_name": "Python 3",
   "language": "python",
   "name": "python3"
  },
  "language_info": {
   "codemirror_mode": {
    "name": "ipython",
    "version": 3
   },
   "file_extension": ".py",
   "mimetype": "text/x-python",
   "name": "python",
   "nbconvert_exporter": "python",
   "pygments_lexer": "ipython3",
   "version": "3.7.4"
  }
 },
 "nbformat": 4,
 "nbformat_minor": 2
}
