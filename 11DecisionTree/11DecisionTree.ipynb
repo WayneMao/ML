{
 "cells": [
  {
   "cell_type": "markdown",
   "metadata": {},
   "source": [
    "## 11. 决策树\n",
    "决策树是几个经典集成模型(随机森林，提升树)的基础。决策树由结点和有向边组成。结点分为两种：内部节点和叶节点。\n",
    "\n",
    "### 11.1 理解决策树\n",
    "**决策树其实是一满二叉树。** 注意:国内外满二叉树定义不同，国内认为的满二叉树其实就是英文wiki上说的”perfect binary tree\"，而其认为的满二叉树只要满足“一个节点要么是叶子节点，要么有2个子节点”。\n",
    "\n",
    "从数据中学出决策树需要：\n",
    "- 树的形状\n",
    "- 每个决策的阈值$\\theta_i$\n",
    "- 每个叶节点的值\n",
    "\n",
    "一棵决策树也具有大量的参数，但树本身是具有结构的。结构的学习也叫作Structured Prediction.  \n",
    "\n",
    "结构的学习一般来说都很难，很多都是**NP-hard问题**。那具体什么叫NP-hard呢？ 如果学过数据结构与算法，就应该有所了解。简单来讲NP-hard问题就是那些多项式时间复杂度内基本上解不出来的问题，一般需要指数级复杂度。\n",
    "\n",
    "一般对于这类的问题是没有一个很好的方式来求出全局最优解的。既然这样，我们通常会使用近似算法来找到“相对”最好的解。一个经典的近似算法叫作“**贪心算法**”。这类的算法每次只考虑局部最好的情况，所以一般带来的是相对最好的解决方案。但在某些特定的情况下，也可以给出全局最优解。  \n",
    "给定数据并学出最好的决策树本身也是很难的问题。在这个问题上，我们也通常使用贪心算法来做每一步的决策，比如使用**信息增益**来判断下一个节点上需要放哪一个特征。\n",
    "\n",
    "数据的特征维度越多，决策树可能的形状越多。\n",
    "\n",
    "决策树算法的本质是一个贪心算法。\n",
    "\n",
    "Reference:\n",
    "[深入浅出理解决策树算法（一）-核心思想](https://zhuanlan.zhihu.com/p/26703300?utm_source=wechat_session&utm_medium=social&utm_oi=562214417006116864)"
   ]
  },
  {
   "attachments": {
    "image.png": {
     "image/png": "[encoded data removed]"
    }
   },
   "cell_type": "markdown",
   "metadata": {},
   "source": [
    "### 11.2 不确定性以及信息增益\n",
    "决策树算法的本质是一个贪心算法,所以在决策树的训练上，每一步的最优选择局限在局部。  \n",
    "\n",
    "**信息熵(entropy):** 表示随机变量不确定性的度量。   \n",
    "设X是一个取有限个值的离散随机变量，其概率分布为：\n",
    "$$P(X=x_i) = p_i,i=1,2,3,\\cdots,n$$\n",
    "则随机变量X熵的定义为：\n",
    "$$H(X) = -\\sum_{i=1}^n {p_i logp_i}$$\n",
    "熵越大，随机变量的不确定性就越大。\n",
    "熵H(p)随概率p变化的曲线，如下图所示：\n",
    "![image.png](attachment:image.png)\n",
    "\n",
    "不确定性的减少 = 原来的不确定性 - 现在的不确定性  \n",
    "在选择哪个特征作为根节点的时候？考虑 不确定性减少的最多 的那个特征。  \n",
    "这种不确定性的减少也叫作**信息增益(information gain)**。构建决策树的过程无非是每一步通过信息增益来选择最好的特征作为当前的根节点，以此类推，持续把树构造起来。  \n",
    "**信息增益(information gain):** 特征A对训练数据集D的信息增益$g(D|A)$，定义为集合D的**经验熵**H(D)与特征A在给定条件下D的**经验条件熵**$H(D|A)$之差，即：\n",
    "$$g(D|A) = H(D) - H(D|A)$$\n",
    "\n",
    "\n",
    "总结一下，每一步的构建其实就是选择当前最好的特征作为根节点。然后持续地重复以上过程把整棵树构建起来。其中，信息增益充当着每次选择特征的标准。\n",
    "\n",
    "Reference:\n",
    "《统计学习方法》5.2 特征选择--信息增益   \n"
   ]
  },
  {
   "cell_type": "markdown",
   "metadata": {},
   "source": [
    "### 11.3 决策树的过拟合以及措施\n",
    "**什么时候可以停止分裂(splitting)?**\n",
    "- 当一个叶节点(leaf node)里包含的所有的样本都属于同一个类别时可以停止分裂\n",
    "- 当一个叶节点里包含的所有样本的特征都一样时可以停止分裂\n",
    "\n",
    "**注意：**决策树很容易过拟合！\n",
    "\n",
    "对于决策树我们如何减少过拟合现象？ \n",
    "> 决策树越简单越好！  \n",
    "\n",
    "那什么叫更简单的决策树呢？"
   ]
  },
  {
   "cell_type": "code",
   "execution_count": null,
   "metadata": {},
   "outputs": [],
   "source": []
  },
  {
   "cell_type": "code",
   "execution_count": null,
   "metadata": {},
   "outputs": [],
   "source": []
  },
  {
   "cell_type": "code",
   "execution_count": null,
   "metadata": {},
   "outputs": [],
   "source": []
  }
 ],
 "metadata": {
  "kernelspec": {
   "display_name": "Python 3",
   "language": "python",
   "name": "python3"
  },
  "language_info": {
   "codemirror_mode": {
    "name": "ipython",
    "version": 3
   },
   "file_extension": ".py",
   "mimetype": "text/x-python",
   "name": "python",
   "nbconvert_exporter": "python",
   "pygments_lexer": "ipython3",
   "version": "3.7.4"
  }
 },
 "nbformat": 4,
 "nbformat_minor": 2
}
