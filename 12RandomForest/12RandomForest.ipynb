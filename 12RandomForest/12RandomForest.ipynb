{
 "cells": [
  {
   "cell_type": "markdown",
   "metadata": {},
   "source": [
    "## 12. 随机森林\n",
    "\n",
    "### 12.1 集成模型和它的优势\n",
    "\n",
    "**”集成模型(ensemble model)”** 对于几乎所有的分类问题(除了图像识别，因为对于图像识别问题，目前深度学习是标配)，集成模型成为了我们的首选。  \n",
    " \n",
    " 比如构建一个评分卡系统，业界的标配是GBDT或者XGBoost等集成模型，主要因为它的效果确实好，而且稳定。还有一点是这些模型的可解释性也很好，不像深度学习模型就像个黑盒子。\n",
    "\n",
    "可解释性对于工业界应用来说尤其重要。 比如一个模型出错了，我们希望第一时间能够找出问题的根源。但如果模型的可解释性比较差，则很难及时把问题定位出来。\n",
    "\n",
    "**那为什么集成模型的可解释性好呢？**  \n",
    "这个其实不难理解，因为随机森林或者提升树模型其实是基于决策树的，而且我们知道决策树模型的可解释性本来就很好。集成模型可以简单理解成决策树的集合！  \n",
    "“三个臭皮匠顶个诸葛亮\"。其实也从侧面反映了集成模型的思想，多个人一起决策要优于一个人单干。  \n",
    "\n",
    "集成模型的两大类：\n",
    "- bagging\n",
    " + 随机森林\n",
    "- Boosting\n",
    " + GBDA,XGBoost"
   ]
  }
 ],
 "metadata": {
  "kernelspec": {
   "display_name": "Python 3",
   "language": "python",
   "name": "python3"
  },
  "language_info": {
   "codemirror_mode": {
    "name": "ipython",
    "version": 3
   },
   "file_extension": ".py",
   "mimetype": "text/x-python",
   "name": "python",
   "nbconvert_exporter": "python",
   "pygments_lexer": "ipython3",
   "version": "3.7.4"
  }
 },
 "nbformat": 4,
 "nbformat_minor": 2
}
