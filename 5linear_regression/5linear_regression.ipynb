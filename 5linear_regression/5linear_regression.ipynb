{
 "cells": [
  {
   "cell_type": "markdown",
   "metadata": {},
   "source": [
    "## 5. 线性回归(linear_regression)"
   ]
  },
  {
   "cell_type": "markdown",
   "metadata": {},
   "source": [
    "### 5.1 一元线性回归\n",
    "$l = \\sum_{i=1}^{N} (wx_i + b - y_i)^2$\n",
    "手推后得到:  \n",
    "$ w = \\frac {\\overline{xy} - \\bar{x}\\bar{y}} {\\bar{x^2}  - {\\bar{x}}^2 }$  \n",
    "$ b = \\bar{y} - w\\bar{x}$  "
   ]
  },
  {
   "cell_type": "code",
   "execution_count": 27,
   "metadata": {},
   "outputs": [
    {
     "name": "stdout",
     "output_type": "stream",
     "text": [
      "(10,) (10,)\n",
      "通过手动实现的线性回归模型参数: 0.57576 -38.07879\n",
      "基于sklearn的线性回归模型参数：0.57576 -38.07879\n"
     ]
    },
    {
     "data": {
      "image/png": "[encoded data removed]",
      "text/plain": [
       "<Figure size 432x288 with 1 Axes>"
      ]
     },
     "metadata": {
      "needs_background": "light"
     },
     "output_type": "display_data"
    }
   ],
   "source": [
    "# 创建数据集，把数据写入到numpy数组\n",
    "import numpy as np  # 引用numpy库，主要用来做科学计算\n",
    "import matplotlib.pyplot as plt   # 引用matplotlib库，主要用来画图\n",
    "data = np.array([[152,51],[156,53],[160,54],[164,55],\n",
    "                 [168,57],[172,60],[176,62],[180,65],\n",
    "                 [184,69],[188,72]])\n",
    "\n",
    "# 打印大小\n",
    "x, y = data[:,0], data[:,1]\n",
    "print (x.shape, y.shape)\n",
    "\n",
    "x_mean = np.mean(x)\n",
    "y_mean = np.mean(y)\n",
    "x2_mean = np.mean(x**2)\n",
    "xy_mean = np.mean(x*y)\n",
    "\n",
    "# 1. 手动实现一个线性回归算法，具体推导细节参考4.1课程视频\n",
    "# TODO: 实现w和b参数， 这里w是斜率， b是偏移量\n",
    "w = (xy_mean  - x_mean * y_mean)/(x2_mean - np.square(x_mean))\n",
    "b = y_mean - w * x_mean\n",
    "\n",
    "print (\"通过手动实现的线性回归模型参数: %.5f %.5f\"%(w,b))\n",
    "\n",
    "# 2. 使用sklearn来实现线性回归模型, 可以用来比较一下跟手动实现的结果\n",
    "from sklearn.linear_model import LinearRegression\n",
    "model = LinearRegression().fit(x.reshape(-1,1),y)\n",
    "print (\"基于sklearn的线性回归模型参数：%.5f %.5f\"%(model.coef_, model.intercept_)) # W b\n",
    "\n",
    "plt.scatter(x,y)\n",
    "plt.plot(x,x*w + b)\n",
    "plt.show()"
   ]
  },
  {
   "cell_type": "markdown",
   "metadata": {},
   "source": [
    "### 5.2 多元线性回归\n",
    "**张量：**简单地说，可以把张量看作是多个矩阵的叠加。\n",
    "向量的**范数(Vector Norm)：** 指一个针对向量的操作。  \n",
    "L2范数：$||X||_2 = \\sqrt{x_1^2 + x_2^2 + \\dots + x_n^2}$  \n",
    "$||X||_2^2 = x_1^2 + x_2^2 + \\dots + x_n^2$\n",
    "N个样本， d个特征  \n",
    "$l = \\sum_{i=1}^{N} (\\sum_{j=1}^d{w_jx_{ij}} + b - y_i)^2$    \n",
    "![image.png](wMatrix.png)\n",
    "\n",
    "$w_0*1= b$  \n",
    "$\\frac {\\partial l}{\\partial w}$ 求导后，得\n",
    "$w = (X^TX)^{-1}X^Ty$  \n",
    "这里存在一个问题$(X^TX)^{-1}$不能保证满秩，所以不能保证其存在逆矩阵。通常的解决方法是：  \n",
    "- 把线性相关的特征去掉，保证数据中不会出现线性相关的特征\n",
    "- 在$(X^TX)^{-1}$的基础上加一个单位矩阵  \n",
    "$w = (X^TX + \\lambda I)^{-1}X^Ty$  在原有信息上添加了一个噪声，但是确保了逆矩阵的存在.  \n",
    "**注意:** 添加的$\\lambda I$项作为噪声，$\\lambda$应该尽肯能的小。"
   ]
  },
  {
   "cell_type": "code",
   "execution_count": 16,
   "metadata": {},
   "outputs": [
    {
     "name": "stdout",
     "output_type": "stream",
     "text": [
      "基于sklearn的线性回归模型参数为 coef:  [1. 2.]  intercept: 3.00000\n",
      "通过手动实现的线性回归模型参数为 coef:  [1.00298829 2.00049937]  intercept: 2.99377\n"
     ]
    }
   ],
   "source": [
    "import random\n",
    "import numpy as np\n",
    "from sklearn.linear_model import LinearRegression\n",
    "\n",
    "# 生成样本数据， 特征维度为2\n",
    "X = np.array([[1, 1], [1, 2], [2, 2], [2, 3]])\n",
    "# y = 1 * x_0 + 2 * x_1 + 3\n",
    "y = np.dot(X, np.array([1, 2])) + 3\n",
    "\n",
    "# 先使用sklearn自带的库来解决\n",
    "model = LinearRegression().fit(X, y)\n",
    "\n",
    "# 打印参数以及偏移量（bias）\n",
    "print (\"基于sklearn的线性回归模型参数为 coef: \", model.coef_, \" intercept: %.5f\" %model.intercept_) # W b\n",
    "\n",
    "# TODO: 动手实现多元线性回归的参数估计, 把最后的结果放在res变量里。 res[0]存储的是偏移量，res[1:]存储的是模型参数\n",
    "X = np.insert(X, 0, values=1, axis=1)\n",
    "XT = np.transpose(X)\n",
    "#W = np.random.rand(3,1)\n",
    "W = np.ones([3,1],dtype=float)\n",
    "# y = np.transpose(y)  #一维的\n",
    "\n",
    "inv = np.linalg.inv(XT.dot(X) + 0.001*np.eye(3))\n",
    "res = inv.dot(XT).dot(y)\n",
    "\n",
    "# 打印参数以偏移量（bias）\n",
    "print (\"通过手动实现的线性回归模型参数为 coef: \", res[1:], \" intercept: %.5f\"%res[0])"
   ]
  },
  {
   "cell_type": "markdown",
   "metadata": {},
   "source": [
    "### 5.3 线性回归模型的矩阵表示法\n",
    "**线性回归的最小二乘法是基于误差为高斯分布的假设得来的**  \n",
    "线性回归的误差模型：$y = w^TX + b + e$  \n",
    "基于所有样本的最大似然(Maximum Likelihood)\n",
    "    "
   ]
  },
  {
   "cell_type": "code",
   "execution_count": null,
   "metadata": {},
   "outputs": [],
   "source": []
  }
 ],
 "metadata": {
  "kernelspec": {
   "display_name": "Python 3",
   "language": "python",
   "name": "python3"
  },
  "language_info": {
   "codemirror_mode": {
    "name": "ipython",
    "version": 3
   },
   "file_extension": ".py",
   "mimetype": "text/x-python",
   "name": "python",
   "nbconvert_exporter": "python",
   "pygments_lexer": "ipython3",
   "version": "3.7.4"
  }
 },
 "nbformat": 4,
 "nbformat_minor": 2
}
