{
 "cells": [
  {
   "cell_type": "markdown",
   "metadata": {},
   "source": [
    "## 8. 广告点击率预测系统  \n",
    "kaggle项目：\n",
    "https://www.kaggle.com/c/avazu-ctr-prediction"
   ]
  },
  {
   "cell_type": "markdown",
   "metadata": {},
   "source": [
    "### 8.2 精确率、召回率以及F1-Score\n",
    "**准确率(accuracy)：**\n",
    "\n",
    "癌症检测的例子中。搭建一个AI模型去诊断一个用户是否得了癌症(两个类别，患癌症/没有患癌症)，那对于患癌症这个类别来说，\n",
    "高精确率、高召回率都要争取，但优先考虑精确率。  \n",
    "首先要明确这里的精确率和召回率到底指的是什么。 精确率是**被判定为癌症的用户里有百分之多少确实得了癌症，召回率是找出了百分之多少的癌症患者。**  \n",
    "\n",
    "设想一下，假如一个患者得了癌症，但AI模型检测说没有得癌症，结果会怎么样？很明显，这个误诊对导致用户错过了最佳治疗期，后果是不堪设想的！ 但另外一方面，如果一个用户没有得癌症，但我们把他误诊为得了癌症，会发生什么情况？ 结果就是这个患者会很沮丧，也有可能去其他医院再做检查，但仅此而已。    \n",
    "\n",
    "在上面的分析里，前者指的是召回率，后者指的是精确率。所以在这个例子里，我们建模时需要考虑的点是：在保证召回率的情况下尽可能提升精确率。因为低召回率直接跟严重的后果相关，而且我们不希望看到这个后果。   \n",
    "\n",
    "所以，对于上述问题，我们可以定义一个目标比如：在保证召回率99.99%的情况下，要提升精确率。\n",
    "\n",
    "---\n",
    "召回率和精确率可以单独作为系统的评估指标。但很多应用里，我们可能没有一个明确的倾向性，就希望得到两者之间一个合理的平衡点。  \n",
    "把精确率和召回率合在一起弄成一个单独的指标就是**F1-Score**"
   ]
  },
  {
   "cell_type": "markdown",
   "metadata": {},
   "source": [
    "召回率——查准率——recall   \n",
    "精确率——查全率——precision\n",
    "\n",
    "首先明确一下几个表示：\n",
    "- True Positive(真正, TP)：将正类预测为正类数.  真正类  \n",
    "- True Negative(真负 , TN)：将负类预测为负类数.  真负例\n",
    "- False Positive(假正, FP)：将负类预测为正类数 →→ 误报 (Type I error).   假正例 \n",
    "- False Negative(假负 , FN)：将正类预测为负类数 →→ 漏报 (Type II error).  假负例\n",
    "即：\n",
    "\n",
    "|       | Positive | Negative |\n",
    "| ----- | -------- | -------- |\n",
    "| True  | TP       | TN       |\n",
    "| False | FN       | FN       |\n",
    "\n",
    "这样之后，准确率、精确率和召回率可以用如下公式来表示：  \n",
    "准确率 : $Acc=\\frac {TP+TN}{TP+FP+FN+TN}$  \n",
    "精确率：$Pre=\\frac{TP}{TP+FP}$  \n",
    "召回率：$Recall = \\frac{TP}{TP+FN}$    \n",
    "\n",
    "F1 score: $F1 = \\frac{2 * precision * recall}{precision + recall}$\n"
   ]
  },
  {
   "attachments": {},
   "cell_type": "markdown",
   "metadata": {},
   "source": [
    "### 8.3 特征选择技术\n",
    "特征选择技术：\n",
    "- 尝试所有的组合\n",
    "- 贪心算法\n",
    "- L1正则\n",
    "- 使用树算法\n",
    "- 相关性计算\n",
    "\n",
    "Reference:  \n",
    "[机器学习中，有哪些特征选择的工程方法？](https://www.zhihu.com/question/28641663/answer/110165221)\n",
    "\n",
    "![image.png](Feature%20Engineering.jpg)"
   ]
  },
  {
   "cell_type": "code",
   "execution_count": null,
   "metadata": {},
   "outputs": [],
   "source": []
  }
 ],
 "metadata": {
  "kernelspec": {
   "display_name": "Python 3",
   "language": "python",
   "name": "python3"
  },
  "language_info": {
   "codemirror_mode": {
    "name": "ipython",
    "version": 3
   },
   "file_extension": ".py",
   "mimetype": "text/x-python",
   "name": "python",
   "nbconvert_exporter": "python",
   "pygments_lexer": "ipython3",
   "version": "3.7.4"
  }
 },
 "nbformat": 4,
 "nbformat_minor": 2
}
