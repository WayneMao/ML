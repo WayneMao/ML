{
 "cells": [
  {
   "cell_type": "markdown",
   "metadata": {},
   "source": [
    "## 金融风控项目\n",
    "在此项目中，你需要完成金融风控模型的搭建。 基于一个用户的基本信息、历史信息来预测逾期与否。采样的具体数据是拍拍贷数据。https://www.kesci.com/home/competition/56cd5f02b89b5bd026cb39c9/content/1\n",
    "在此数据中提供了三种不同类型的数据:\n",
    "1. Master: 用户的主要信息\n",
    "2. Loginfo: 登录信息\n",
    "3. Userupdateinfo: 修改信息\n",
    "\n",
    "在本次项目中，我们只使用```Master```的信息来预测一个用户是否会逾期。 数据里有一个字段叫作```Target```是样本的标签（label)。 在```Master```表格里，包含200多个特征，但不少特征具有缺失值。 做项目的时候需要仔细处理一下。 \n",
    "\n",
    "对于特征处理方面的技术，请参考本章视频课程里的内容。\n",
    "\n",
    "本项目区别于之前的项目，希望大家能够开放性地思考，不要太局限于给定的条条框框，把目前为止学到的知识都用起来。所以在项目的设计上区别于之前的，没有设置太多的框架性的，大家可以按照自己的思路灵活做项目。 由于项目本身来自于数据竞赛，所以可以试着跟竞赛里的TOP选手的结果做一下对比，看看跟他们的差距或者优势在哪儿。\n",
    "\n",
    "```数据```\n",
    "- ```Training/PPD_Training_Master_GBK_3_1_Training_Set.csv```:  训练数据\n",
    "- ```Test/PPD_Master_GBK_2_Test_Set.csv```: 测试数据\n",
    "\n",
    "\n",
    "强调：一定要把注释写清楚。 每个函数，每一个模块具体做什么写清楚。"
   ]
  },
  {
   "cell_type": "markdown",
   "metadata": {},
   "source": [
    "> 注意： 除了下面导入的库，还有sklearn、XGBoost等经典的库之外，建议不要使用其他的函数库。 如果你不得不使用一些其他特殊的库，请把环境注明在requirements.txt里面，不然我们判作业的时候就没有办法去评判了。 "
   ]
  },
  {
   "cell_type": "code",
   "execution_count": 1,
   "metadata": {},
   "outputs": [],
   "source": [
    "import numpy as np \n",
    "import math \n",
    "import pandas as pd \n",
    "pd.set_option('display.float_format',lambda x:'%.3f' % x)\n",
    "import matplotlib.pyplot as plt \n",
    "plt.style.use('ggplot')\n",
    "%matplotlib inline\n",
    "import seaborn as sns \n",
    "sns.set_palette('muted')\n",
    "sns.set_style('darkgrid')\n",
    "import warnings\n",
    "warnings.filterwarnings('ignore')\n",
    "import os \n"
   ]
  },
  {
   "cell_type": "code",
   "execution_count": 2,
   "metadata": {},
   "outputs": [
    {
     "name": "stdout",
     "output_type": "stream",
     "text": [
      "(30000, 228)\n"
     ]
    }
   ],
   "source": [
    "# 读取Master数据\n",
    "data = pd.read_csv('data/Training/PPD_Training_Master_GBK_3_1_Training_Set.csv',encoding='gb18030')\n",
    "print (data.shape)"
   ]
  },
  {
   "cell_type": "markdown",
   "metadata": {},
   "source": [
    "## 0 数据基本情况\n",
    "了解一下数据的基本构成，样本的基本对比等。"
   ]
  },
  {
   "cell_type": "code",
   "execution_count": 3,
   "metadata": {},
   "outputs": [
    {
     "data": {
      "text/html": [
       "<div>\n",
       "<style scoped>\n",
       "    .dataframe tbody tr th:only-of-type {\n",
       "        vertical-align: middle;\n",
       "    }\n",
       "\n",
       "    .dataframe tbody tr th {\n",
       "        vertical-align: top;\n",
       "    }\n",
       "\n",
       "    .dataframe thead th {\n",
       "        text-align: right;\n",
       "    }\n",
       "</style>\n",
       "<table border=\"1\" class=\"dataframe\">\n",
       "  <thead>\n",
       "    <tr style=\"text-align: right;\">\n",
       "      <th></th>\n",
       "      <th>Idx</th>\n",
       "      <th>UserInfo_1</th>\n",
       "      <th>UserInfo_2</th>\n",
       "      <th>UserInfo_3</th>\n",
       "      <th>UserInfo_4</th>\n",
       "      <th>WeblogInfo_1</th>\n",
       "      <th>WeblogInfo_2</th>\n",
       "      <th>WeblogInfo_3</th>\n",
       "      <th>WeblogInfo_4</th>\n",
       "      <th>WeblogInfo_5</th>\n",
       "      <th>...</th>\n",
       "      <th>SocialNetwork_10</th>\n",
       "      <th>SocialNetwork_11</th>\n",
       "      <th>SocialNetwork_12</th>\n",
       "      <th>SocialNetwork_13</th>\n",
       "      <th>SocialNetwork_14</th>\n",
       "      <th>SocialNetwork_15</th>\n",
       "      <th>SocialNetwork_16</th>\n",
       "      <th>SocialNetwork_17</th>\n",
       "      <th>target</th>\n",
       "      <th>ListingInfo</th>\n",
       "    </tr>\n",
       "  </thead>\n",
       "  <tbody>\n",
       "    <tr>\n",
       "      <td>0</td>\n",
       "      <td>10001</td>\n",
       "      <td>1.000</td>\n",
       "      <td>深圳</td>\n",
       "      <td>4.000</td>\n",
       "      <td>深圳</td>\n",
       "      <td>nan</td>\n",
       "      <td>1.000</td>\n",
       "      <td>nan</td>\n",
       "      <td>1.000</td>\n",
       "      <td>1.000</td>\n",
       "      <td>...</td>\n",
       "      <td>222</td>\n",
       "      <td>-1</td>\n",
       "      <td>0</td>\n",
       "      <td>0</td>\n",
       "      <td>0</td>\n",
       "      <td>0</td>\n",
       "      <td>0</td>\n",
       "      <td>1</td>\n",
       "      <td>0</td>\n",
       "      <td>2014/3/5</td>\n",
       "    </tr>\n",
       "    <tr>\n",
       "      <td>1</td>\n",
       "      <td>10002</td>\n",
       "      <td>1.000</td>\n",
       "      <td>温州</td>\n",
       "      <td>4.000</td>\n",
       "      <td>温州</td>\n",
       "      <td>nan</td>\n",
       "      <td>0.000</td>\n",
       "      <td>nan</td>\n",
       "      <td>1.000</td>\n",
       "      <td>1.000</td>\n",
       "      <td>...</td>\n",
       "      <td>1</td>\n",
       "      <td>-1</td>\n",
       "      <td>0</td>\n",
       "      <td>0</td>\n",
       "      <td>0</td>\n",
       "      <td>0</td>\n",
       "      <td>0</td>\n",
       "      <td>2</td>\n",
       "      <td>0</td>\n",
       "      <td>2014/2/26</td>\n",
       "    </tr>\n",
       "    <tr>\n",
       "      <td>2</td>\n",
       "      <td>10003</td>\n",
       "      <td>1.000</td>\n",
       "      <td>宜昌</td>\n",
       "      <td>3.000</td>\n",
       "      <td>宜昌</td>\n",
       "      <td>nan</td>\n",
       "      <td>0.000</td>\n",
       "      <td>nan</td>\n",
       "      <td>2.000</td>\n",
       "      <td>2.000</td>\n",
       "      <td>...</td>\n",
       "      <td>-1</td>\n",
       "      <td>-1</td>\n",
       "      <td>-1</td>\n",
       "      <td>1</td>\n",
       "      <td>0</td>\n",
       "      <td>0</td>\n",
       "      <td>0</td>\n",
       "      <td>0</td>\n",
       "      <td>0</td>\n",
       "      <td>2014/2/28</td>\n",
       "    </tr>\n",
       "    <tr>\n",
       "      <td>3</td>\n",
       "      <td>10006</td>\n",
       "      <td>4.000</td>\n",
       "      <td>南平</td>\n",
       "      <td>1.000</td>\n",
       "      <td>南平</td>\n",
       "      <td>nan</td>\n",
       "      <td>nan</td>\n",
       "      <td>nan</td>\n",
       "      <td>nan</td>\n",
       "      <td>nan</td>\n",
       "      <td>...</td>\n",
       "      <td>-1</td>\n",
       "      <td>-1</td>\n",
       "      <td>-1</td>\n",
       "      <td>0</td>\n",
       "      <td>0</td>\n",
       "      <td>0</td>\n",
       "      <td>0</td>\n",
       "      <td>0</td>\n",
       "      <td>0</td>\n",
       "      <td>2014/2/25</td>\n",
       "    </tr>\n",
       "    <tr>\n",
       "      <td>4</td>\n",
       "      <td>10007</td>\n",
       "      <td>5.000</td>\n",
       "      <td>辽阳</td>\n",
       "      <td>1.000</td>\n",
       "      <td>辽阳</td>\n",
       "      <td>nan</td>\n",
       "      <td>0.000</td>\n",
       "      <td>nan</td>\n",
       "      <td>1.000</td>\n",
       "      <td>1.000</td>\n",
       "      <td>...</td>\n",
       "      <td>-1</td>\n",
       "      <td>-1</td>\n",
       "      <td>-1</td>\n",
       "      <td>0</td>\n",
       "      <td>0</td>\n",
       "      <td>0</td>\n",
       "      <td>0</td>\n",
       "      <td>0</td>\n",
       "      <td>0</td>\n",
       "      <td>2014/2/27</td>\n",
       "    </tr>\n",
       "  </tbody>\n",
       "</table>\n",
       "<p>5 rows × 228 columns</p>\n",
       "</div>"
      ],
      "text/plain": [
       "     Idx  UserInfo_1 UserInfo_2  UserInfo_3 UserInfo_4  WeblogInfo_1  \\\n",
       "0  10001       1.000         深圳       4.000         深圳           nan   \n",
       "1  10002       1.000         温州       4.000         温州           nan   \n",
       "2  10003       1.000         宜昌       3.000         宜昌           nan   \n",
       "3  10006       4.000         南平       1.000         南平           nan   \n",
       "4  10007       5.000         辽阳       1.000         辽阳           nan   \n",
       "\n",
       "   WeblogInfo_2  WeblogInfo_3  WeblogInfo_4  WeblogInfo_5  ...  \\\n",
       "0         1.000           nan         1.000         1.000  ...   \n",
       "1         0.000           nan         1.000         1.000  ...   \n",
       "2         0.000           nan         2.000         2.000  ...   \n",
       "3           nan           nan           nan           nan  ...   \n",
       "4         0.000           nan         1.000         1.000  ...   \n",
       "\n",
       "   SocialNetwork_10  SocialNetwork_11  SocialNetwork_12  SocialNetwork_13  \\\n",
       "0               222                -1                 0                 0   \n",
       "1                 1                -1                 0                 0   \n",
       "2                -1                -1                -1                 1   \n",
       "3                -1                -1                -1                 0   \n",
       "4                -1                -1                -1                 0   \n",
       "\n",
       "   SocialNetwork_14  SocialNetwork_15  SocialNetwork_16  SocialNetwork_17  \\\n",
       "0                 0                 0                 0                 1   \n",
       "1                 0                 0                 0                 2   \n",
       "2                 0                 0                 0                 0   \n",
       "3                 0                 0                 0                 0   \n",
       "4                 0                 0                 0                 0   \n",
       "\n",
       "   target  ListingInfo  \n",
       "0       0     2014/3/5  \n",
       "1       0    2014/2/26  \n",
       "2       0    2014/2/28  \n",
       "3       0    2014/2/25  \n",
       "4       0    2014/2/27  \n",
       "\n",
       "[5 rows x 228 columns]"
      ]
     },
     "execution_count": 3,
     "metadata": {},
     "output_type": "execute_result"
    }
   ],
   "source": [
    "# 展示记录\n",
    "#data.iloc[:,:14].head()\n",
    "data.head()"
   ]
  },
  {
   "cell_type": "code",
   "execution_count": 4,
   "metadata": {},
   "outputs": [
    {
     "data": {
      "text/plain": [
       "0    27802\n",
       "1     2198\n",
       "Name: target, dtype: int64"
      ]
     },
     "execution_count": 4,
     "metadata": {},
     "output_type": "execute_result"
    }
   ],
   "source": [
    "# 正负样本的比例， 可以看出样本比例不平衡的，针对样本不平衡， 后面还要进行一些处理\n",
    "data.target.value_counts()"
   ]
  },
  {
   "cell_type": "markdown",
   "metadata": {},
   "source": [
    "Master  \n",
    "每一行代表一个样本（一笔成功成交借款），每个样本包含200多个各类字段。\n",
    "\n",
    "- idx：每一笔贷款的unique key，可以与另外2个文件里的idx相匹配。\n",
    "\n",
    "- UserInfo_*：借款人特征字段\n",
    "\n",
    "- WeblogInfo_*：Info网络行为字段\n",
    "\n",
    "- Education_Info*：学历学籍字段\n",
    "\n",
    "- ThirdParty_Info_PeriodN_*：第三方数据时间段N字段\n",
    "\n",
    "- SocialNetwork_*：社交网络字段\n",
    "\n",
    "- LinstingInfo：借款成交时间\n",
    "\n",
    "- Target：违约标签（1 = 贷款违约，0 = 正常还款）。测试集里不包含target字段。"
   ]
  },
  {
   "cell_type": "markdown",
   "metadata": {},
   "source": [
    "### 0.1 借款成交量的时间趋势变化"
   ]
  },
  {
   "cell_type": "code",
   "execution_count": 5,
   "metadata": {
    "scrolled": false
   },
   "outputs": [
    {
     "data": {
      "image/png": "[encoded data removed]",
      "text/plain": [
       "<Figure size 720x288 with 1 Axes>"
      ]
     },
     "metadata": {
      "needs_background": "light"
     },
     "output_type": "display_data"
    }
   ],
   "source": [
    "# 借款成交时间的范围\n",
    "data.ListingInfo = pd.to_datetime(data.ListingInfo,errors='ignore')# 'coerce' format='%y%m%d',  infer_datetime_format=False,\n",
    "# 格式转化2014-3-5 之后，可以用 dt 属性 直接调用时间属性\n",
    "\n",
    "# 每个月份的用户数分布\n",
    "data['month'] = data.ListingInfo.dt.strftime('%Y-%m')\n",
    "\n",
    "# 绘制成交量的时间趋势图\n",
    "plt.figure(figsize=(10,4))\n",
    "\n",
    "#解决中文显示问题\n",
    "#plt.rcParams['font.sans-serif']=['Microsoft YaHei']\n",
    "# plt.rcParams['font.sans-serif']=['SimHei']\n",
    "# plt.rcParams['axes.unicode_minus'] = False\n",
    "\n",
    "#plt.title(\"借款成交量的时间趋势图\")\n",
    "plt.title('Time trend chart of borrowing volume')\n",
    "\n",
    "sns.countplot(data=data.sort_values('month'),x='month')\n",
    "plt.show()"
   ]
  },
  {
   "cell_type": "markdown",
   "metadata": {},
   "source": [
    "### 0.2 违约情况的时间趋势分析"
   ]
  },
  {
   "cell_type": "code",
   "execution_count": 7,
   "metadata": {
    "scrolled": true
   },
   "outputs": [
    {
     "data": {
      "image/png": "[encoded data removed]",
      "text/plain": [
       "<Figure size 864x288 with 1 Axes>"
      ]
     },
     "metadata": {
      "needs_background": "light"
     },
     "output_type": "display_data"
    }
   ],
   "source": [
    "month_group = data.groupby('month') # 根据月份计算每个月的违约率\n",
    "# groupby 分组以 month 作为index，\n",
    "time_bad_trend = pd.DataFrame()\n",
    "time_bad_trend['total'] = month_group.target.count()\n",
    "time_bad_trend['bad'] = month_group.target.sum()\n",
    "time_bad_trend['bad_rate']=time_bad_trend['bad']/time_bad_trend['total']\n",
    "time_bad_trend = time_bad_trend.reset_index()\n",
    "\n",
    "plt.figure(figsize=(12,4))\n",
    "#plt.title('违约率的时间趋势图')\n",
    "plt.title('Time trend chart of bad rate')\n",
    "sns.pointplot(data=time_bad_trend,x='month',y='bad_rate',linestyles='-')\n",
    "plt.show()"
   ]
  },
  {
   "cell_type": "markdown",
   "metadata": {},
   "source": [
    "大致给一下思路，然后可以按照这个思路去一步步完成。 "
   ]
  },
  {
   "cell_type": "markdown",
   "metadata": {},
   "source": [
    "> #### 1. 数据的预处。 需要考虑以下几个方面：\n",
    "- ```缺失值```。数据里有大量的缺失值，需要做一些处理。 \n",
    "- ```字符串的清洗```。比如“北京市”和“北京”合并成“北京”， 统一转换成小写等\n",
    "- ```二值化```。\n",
    "- ```衍生特征```：比如户籍地和当前城市是否是同一个？ \n",
    "- ```特征的独热编码```：对于类别型特征使用独热编码形式\n",
    "- ```连续性特征的处理```：根据情况来处理\n",
    "- ```其他```: 根据情况，自行决定要不要做"
   ]
  },
  {
   "cell_type": "markdown",
   "metadata": {},
   "source": [
    "## 1 数据清洗 \n",
    "\n",
    "### 1.1 缺失值处理\n",
    "- 删除数据缺失比例很大的列，比如超过20%为nan  \n",
    "- 删除数据缺失比例大的行，并保持删除的行数不超过总体的1%  \n",
    "- 填补剩余缺失值，通过value_count观察是连续/离散变量，然后用最高频/平均数填补nan。这里通过观察，而不是判断类型是否object，更贴近实际情况"
   ]
  },
  {
   "cell_type": "code",
   "execution_count": 8,
   "metadata": {},
   "outputs": [
    {
     "name": "stdout",
     "output_type": "stream",
     "text": [
      "Index(['UserInfo_1', 'UserInfo_2', 'UserInfo_3', 'UserInfo_4', 'WeblogInfo_1',\n",
      "       'WeblogInfo_2', 'WeblogInfo_3', 'WeblogInfo_4', 'WeblogInfo_5',\n",
      "       'WeblogInfo_6',\n",
      "       ...\n",
      "       'SocialNetwork_11', 'SocialNetwork_12', 'SocialNetwork_13',\n",
      "       'SocialNetwork_14', 'SocialNetwork_15', 'SocialNetwork_16',\n",
      "       'SocialNetwork_17', 'target', 'ListingInfo', 'month'],\n",
      "      dtype='object', length=228)\n"
     ]
    }
   ],
   "source": [
    "# 查看 某一个特征的总数是否等于 样本的总数\n",
    "# 如果是则 丢弃 这个特征，显然这样的特征是无用的\n",
    "\n",
    "for i in data.columns:\n",
    "    if len(data[i].unique()) == len(data):\n",
    "        data.drop(i,axis=1,inplace=True)\n",
    "    else:\n",
    "        pass\n",
    "print(data.columns)\n",
    "# drop idx"
   ]
  },
  {
   "cell_type": "code",
   "execution_count": 9,
   "metadata": {},
   "outputs": [
    {
     "data": {
      "text/html": [
       "<div>\n",
       "<style scoped>\n",
       "    .dataframe tbody tr th:only-of-type {\n",
       "        vertical-align: middle;\n",
       "    }\n",
       "\n",
       "    .dataframe tbody tr th {\n",
       "        vertical-align: top;\n",
       "    }\n",
       "\n",
       "    .dataframe thead th {\n",
       "        text-align: right;\n",
       "    }\n",
       "</style>\n",
       "<table border=\"1\" class=\"dataframe\">\n",
       "  <thead>\n",
       "    <tr style=\"text-align: right;\">\n",
       "      <th></th>\n",
       "      <th>UserInfo_1</th>\n",
       "      <th>UserInfo_2</th>\n",
       "      <th>UserInfo_3</th>\n",
       "      <th>UserInfo_4</th>\n",
       "      <th>WeblogInfo_2</th>\n",
       "      <th>WeblogInfo_4</th>\n",
       "      <th>WeblogInfo_5</th>\n",
       "      <th>WeblogInfo_6</th>\n",
       "      <th>WeblogInfo_7</th>\n",
       "      <th>WeblogInfo_8</th>\n",
       "      <th>...</th>\n",
       "      <th>SocialNetwork_11</th>\n",
       "      <th>SocialNetwork_12</th>\n",
       "      <th>SocialNetwork_13</th>\n",
       "      <th>SocialNetwork_14</th>\n",
       "      <th>SocialNetwork_15</th>\n",
       "      <th>SocialNetwork_16</th>\n",
       "      <th>SocialNetwork_17</th>\n",
       "      <th>target</th>\n",
       "      <th>ListingInfo</th>\n",
       "      <th>month</th>\n",
       "    </tr>\n",
       "  </thead>\n",
       "  <tbody>\n",
       "    <tr>\n",
       "      <td>0</td>\n",
       "      <td>1.000</td>\n",
       "      <td>深圳</td>\n",
       "      <td>4.000</td>\n",
       "      <td>深圳</td>\n",
       "      <td>1.000</td>\n",
       "      <td>1.000</td>\n",
       "      <td>1.000</td>\n",
       "      <td>1.000</td>\n",
       "      <td>14</td>\n",
       "      <td>0</td>\n",
       "      <td>...</td>\n",
       "      <td>-1</td>\n",
       "      <td>0</td>\n",
       "      <td>0</td>\n",
       "      <td>0</td>\n",
       "      <td>0</td>\n",
       "      <td>0</td>\n",
       "      <td>1</td>\n",
       "      <td>0</td>\n",
       "      <td>2014-03-05</td>\n",
       "      <td>2014-03</td>\n",
       "    </tr>\n",
       "    <tr>\n",
       "      <td>1</td>\n",
       "      <td>1.000</td>\n",
       "      <td>温州</td>\n",
       "      <td>4.000</td>\n",
       "      <td>温州</td>\n",
       "      <td>0.000</td>\n",
       "      <td>1.000</td>\n",
       "      <td>1.000</td>\n",
       "      <td>1.000</td>\n",
       "      <td>14</td>\n",
       "      <td>0</td>\n",
       "      <td>...</td>\n",
       "      <td>-1</td>\n",
       "      <td>0</td>\n",
       "      <td>0</td>\n",
       "      <td>0</td>\n",
       "      <td>0</td>\n",
       "      <td>0</td>\n",
       "      <td>2</td>\n",
       "      <td>0</td>\n",
       "      <td>2014-02-26</td>\n",
       "      <td>2014-02</td>\n",
       "    </tr>\n",
       "    <tr>\n",
       "      <td>2</td>\n",
       "      <td>1.000</td>\n",
       "      <td>宜昌</td>\n",
       "      <td>3.000</td>\n",
       "      <td>宜昌</td>\n",
       "      <td>0.000</td>\n",
       "      <td>2.000</td>\n",
       "      <td>2.000</td>\n",
       "      <td>2.000</td>\n",
       "      <td>9</td>\n",
       "      <td>3</td>\n",
       "      <td>...</td>\n",
       "      <td>-1</td>\n",
       "      <td>-1</td>\n",
       "      <td>1</td>\n",
       "      <td>0</td>\n",
       "      <td>0</td>\n",
       "      <td>0</td>\n",
       "      <td>0</td>\n",
       "      <td>0</td>\n",
       "      <td>2014-02-28</td>\n",
       "      <td>2014-02</td>\n",
       "    </tr>\n",
       "    <tr>\n",
       "      <td>3</td>\n",
       "      <td>4.000</td>\n",
       "      <td>南平</td>\n",
       "      <td>1.000</td>\n",
       "      <td>南平</td>\n",
       "      <td>nan</td>\n",
       "      <td>nan</td>\n",
       "      <td>nan</td>\n",
       "      <td>nan</td>\n",
       "      <td>2</td>\n",
       "      <td>0</td>\n",
       "      <td>...</td>\n",
       "      <td>-1</td>\n",
       "      <td>-1</td>\n",
       "      <td>0</td>\n",
       "      <td>0</td>\n",
       "      <td>0</td>\n",
       "      <td>0</td>\n",
       "      <td>0</td>\n",
       "      <td>0</td>\n",
       "      <td>2014-02-25</td>\n",
       "      <td>2014-02</td>\n",
       "    </tr>\n",
       "    <tr>\n",
       "      <td>4</td>\n",
       "      <td>5.000</td>\n",
       "      <td>辽阳</td>\n",
       "      <td>1.000</td>\n",
       "      <td>辽阳</td>\n",
       "      <td>0.000</td>\n",
       "      <td>1.000</td>\n",
       "      <td>1.000</td>\n",
       "      <td>1.000</td>\n",
       "      <td>3</td>\n",
       "      <td>0</td>\n",
       "      <td>...</td>\n",
       "      <td>-1</td>\n",
       "      <td>-1</td>\n",
       "      <td>0</td>\n",
       "      <td>0</td>\n",
       "      <td>0</td>\n",
       "      <td>0</td>\n",
       "      <td>0</td>\n",
       "      <td>0</td>\n",
       "      <td>2014-02-27</td>\n",
       "      <td>2014-02</td>\n",
       "    </tr>\n",
       "  </tbody>\n",
       "</table>\n",
       "<p>5 rows × 222 columns</p>\n",
       "</div>"
      ],
      "text/plain": [
       "   UserInfo_1 UserInfo_2  UserInfo_3 UserInfo_4  WeblogInfo_2  WeblogInfo_4  \\\n",
       "0       1.000         深圳       4.000         深圳         1.000         1.000   \n",
       "1       1.000         温州       4.000         温州         0.000         1.000   \n",
       "2       1.000         宜昌       3.000         宜昌         0.000         2.000   \n",
       "3       4.000         南平       1.000         南平           nan           nan   \n",
       "4       5.000         辽阳       1.000         辽阳         0.000         1.000   \n",
       "\n",
       "   WeblogInfo_5  WeblogInfo_6  WeblogInfo_7  WeblogInfo_8  ...  \\\n",
       "0         1.000         1.000            14             0  ...   \n",
       "1         1.000         1.000            14             0  ...   \n",
       "2         2.000         2.000             9             3  ...   \n",
       "3           nan           nan             2             0  ...   \n",
       "4         1.000         1.000             3             0  ...   \n",
       "\n",
       "   SocialNetwork_11  SocialNetwork_12  SocialNetwork_13  SocialNetwork_14  \\\n",
       "0                -1                 0                 0                 0   \n",
       "1                -1                 0                 0                 0   \n",
       "2                -1                -1                 1                 0   \n",
       "3                -1                -1                 0                 0   \n",
       "4                -1                -1                 0                 0   \n",
       "\n",
       "   SocialNetwork_15  SocialNetwork_16  SocialNetwork_17  target  ListingInfo  \\\n",
       "0                 0                 0                 1       0   2014-03-05   \n",
       "1                 0                 0                 2       0   2014-02-26   \n",
       "2                 0                 0                 0       0   2014-02-28   \n",
       "3                 0                 0                 0       0   2014-02-25   \n",
       "4                 0                 0                 0       0   2014-02-27   \n",
       "\n",
       "     month  \n",
       "0  2014-03  \n",
       "1  2014-02  \n",
       "2  2014-02  \n",
       "3  2014-02  \n",
       "4  2014-02  \n",
       "\n",
       "[5 rows x 222 columns]"
      ]
     },
     "execution_count": 9,
     "metadata": {},
     "output_type": "execute_result"
    }
   ],
   "source": [
    "## 删除数据缺失比例超过一定比例的 特征\n",
    "null_sum = data.isnull().sum() ## 每个特征 缺失值统计\n",
    "null_sum = null_sum[null_sum!=0]\n",
    "null_sum_df = pd.DataFrame(null_sum, columns=['num'])\n",
    "null_sum_df['ratio'] = null_sum_df['num'] / 30000.0\n",
    "null_sum_df.sort_values(by='ratio', ascending=False, inplace=True)# 降序排列\n",
    "# null_sum_df.head()\n",
    "# 删除缺失严重的列\n",
    "data.drop(['WeblogInfo_3', 'WeblogInfo_1', 'UserInfo_11', 'UserInfo_13', 'UserInfo_12', 'WeblogInfo_20'],\n",
    "                  axis=1, inplace=True)\n",
    "data.head()\n",
    "# 目前还剩221-1个特征 1个label"
   ]
  },
  {
   "cell_type": "code",
   "execution_count": 10,
   "metadata": {},
   "outputs": [
    {
     "name": "stdout",
     "output_type": "stream",
     "text": [
      "before train_master shape (30000, 222)\n",
      "after train_master shape (29189, 222)\n"
     ]
    }
   ],
   "source": [
    "# 删除缺失严重的行\n",
    "record_nan = data.isnull().sum(axis=1).sort_values(ascending=False)\n",
    "drop_record_index = [i for i in record_nan.loc[(record_nan>=5)].index]\n",
    "print('before train_master shape {}'.format(data.shape))\n",
    "data.drop(drop_record_index, inplace=True)\n",
    "print('after train_master shape {}'.format(data.shape))"
   ]
  },
  {
   "cell_type": "code",
   "execution_count": 11,
   "metadata": {},
   "outputs": [
    {
     "name": "stdout",
     "output_type": "stream",
     "text": [
      "before all nan num: 9808\n",
      "after all nan num: 0\n"
     ]
    }
   ],
   "source": [
    "# 填补缺失值\n",
    "print('before all nan num: {}'.format(data.isnull().sum().sum())) # 计算缺失值 总数\n",
    "\n",
    "data.loc[data['UserInfo_2'].isnull(), 'UserInfo_2'] = '未知地点'\n",
    "data.loc[data['UserInfo_4'].isnull(), 'UserInfo_4'] = '未知地点'\n",
    "# print(data.loc[data['UserInfo_2'].isnull(), 'UserInfo_2'])\n",
    "def fill_nan(f, method):\n",
    "    if method == 'most':\n",
    "        common_value = pd.value_counts(data[f], ascending=False).index[0]\n",
    "    else:\n",
    "        common_value = data[f].mean()\n",
    "    data.loc[data[f].isnull(), f] = common_value\n",
    "\n",
    "# 还得判断一个特征其值是 连续 还是 离散的\n",
    "# 通过pd.value_counts(data[f])的观察得到经验\n",
    "fill_nan('UserInfo_1', 'most') # 高频数 填补\n",
    "fill_nan('UserInfo_3', 'most')\n",
    "fill_nan('WeblogInfo_2', 'most')\n",
    "fill_nan('WeblogInfo_4', 'mean')\n",
    "fill_nan('WeblogInfo_5', 'mean')\n",
    "fill_nan('WeblogInfo_6', 'mean')\n",
    "fill_nan('WeblogInfo_19', 'most')\n",
    "fill_nan('WeblogInfo_21', 'most')\n",
    "\n",
    "print('after all nan num: {}'.format(data.isnull().sum().sum()))"
   ]
  },
  {
   "cell_type": "markdown",
   "metadata": {},
   "source": [
    "### 1.2 字符串的清洗\n",
    "- 比如“北京市”和“北京”合并成“北京”\n",
    "- 统一转换成小写等  \n",
    "\n",
    "城市： 'UserInfo_2','UserInfo_4','UserInfo_8','UserInfo_20'(貌似全含有市)  \n",
    "省： 'UserInfo_7',UserInfo_19  \n",
    "通讯运营商：UserInfo_9(中国移动、中国联通、不详...)  \n",
    "婚姻： UserInfo_22  \n",
    "······"
   ]
  },
  {
   "cell_type": "code",
   "execution_count": 12,
   "metadata": {},
   "outputs": [
    {
     "name": "stdout",
     "output_type": "stream",
     "text": [
      "UserInfo_2:328\n",
      "\t\n",
      "UserInfo_4:331\n",
      "\t\n",
      "UserInfo_8:655\n",
      "\t\n",
      "UserInfo_20:297\n",
      "\t\n",
      "After\n",
      "UserInfo_2:328\n",
      "\t\n",
      "UserInfo_4:331\n",
      "\t\n",
      "UserInfo_8:395\n",
      "\t\n",
      "UserInfo_20:297\n",
      "\t\n"
     ]
    }
   ],
   "source": [
    "# 城市特征清洗\n",
    "\n",
    "# 计算4个城市特征的非重复项计数，观察是否有数据异常\n",
    "for col in ['UserInfo_2','UserInfo_4','UserInfo_8','UserInfo_20']:\n",
    "    print('{}:{}'.format(col,data[col].nunique())) # 注意 nunique() 和 unique() 的区别\n",
    "    print('\\t')\n",
    "\n",
    "# UserInfo_8相对其他特征nunique较大，\n",
    "# data.UserInfo_2.unique()\n",
    "# data.UserInfo_4.unique()\n",
    "#print(data.UserInfo_8.unique()[:50])\n",
    "# UserInfo_8 发现有些城市有\"市\"，有些没有，需要做一下格式转换，去掉字符串后缀\"市\".\n",
    "\n",
    "# UserInfo_8清洗处理，处理后非重复项计数减小到400\n",
    "data['UserInfo_2']=[s[:-1] if s.find('市')>0 else s[:] for s in data.UserInfo_2] \n",
    "data['UserInfo_4']=[s[:-1] if s.find('市')>0 else s[:] for s in data.UserInfo_4] \n",
    "data['UserInfo_8']=[s[:-1] if s.find('市')>0 else s[:] for s in data.UserInfo_8] \n",
    "data['UserInfo_20']=[s[:-1] if s.find('市')>0 else s[:] for s in data.UserInfo_20] \n",
    "\n",
    "print(\"After\")\n",
    "for col in ['UserInfo_2','UserInfo_4','UserInfo_8','UserInfo_20']:\n",
    "    print('{}:{}'.format(col,data[col].nunique())) # 注意 nunique() 和 unique() 的区别\n",
    "    print('\\t')"
   ]
  },
  {
   "cell_type": "code",
   "execution_count": 13,
   "metadata": {},
   "outputs": [],
   "source": [
    "# 大小写统一\n",
    "#'UserupdateInfo1'包含了大小写，如\"qQ\"和\"QQ\",属于同一种意思，所以需要对其英文字符统一转换大小写。\n",
    "\n",
    "# 将UserupdateInfo1里的字符改为小写形式\n",
    "# df2['UserupdateInfo1'] = df2.UserupdateInfo1.map(lambda x:x.lower())"
   ]
  },
  {
   "cell_type": "markdown",
   "metadata": {},
   "source": [
    "## 2 特征处理\n",
    "\n",
    "- ```二值化```。\n",
    "- ```衍生特征```：比如户籍地和当前城市是否是同一个？ \n",
    "- ```特征的独热编码```：对于类别型特征使用独热编码形式\n",
    "- ```连续性特征的处理```：根据情况来处理\n",
    "- ```其他```: 根据情况，自行决定要不要做"
   ]
  },
  {
   "cell_type": "markdown",
   "metadata": {},
   "source": [
    "### 2.1 二值化 one-hot\n",
    "- 运营商处理。 string对齐，然后one-hot  \n",
    "- 微博处理。 "
   ]
  },
  {
   "cell_type": "code",
   "execution_count": 14,
   "metadata": {
    "scrolled": true
   },
   "outputs": [],
   "source": [
    "# 运营商 处理\n",
    "\n",
    "# data.UserInfo_9[0:21]\n",
    "# 经检测发现 存在许多 空格不对齐的现象，导致类别增多\n",
    "data['UserInfo_9'] = data['UserInfo_9'].str.strip()\n",
    "\n",
    "# 因运营商的种类少，直接做亚编码处理即可。\n",
    "# 将运营商信息转换为哑变量\n",
    "data = data.replace({'UserInfo_9':{'中国移动':'china_mobile',\n",
    "                                     '中国电信':'china_telecom',\n",
    "                                     '中国联通':'china_unicom',\n",
    "                                     '不详':'operator_unknown'}})\n",
    "\n",
    "oper_dummy = pd.get_dummies(data.UserInfo_9)\n",
    "data = pd.concat([data,oper_dummy],axis=1)\n",
    "# 删除原变量\n",
    "data = data.drop(['UserInfo_9'],axis=1)\n",
    "# 变成了data.china_mobile, data.china_telecom\n",
    "\n",
    "\n",
    "## data.UserInfo_9 = pd.get_dummies(data.UserInfo_9)"
   ]
  },
  {
   "cell_type": "code",
   "execution_count": 15,
   "metadata": {},
   "outputs": [],
   "source": [
    "# 微博数据处理\n",
    "\n",
    "# 前面已经做过 缺失值填充\n",
    "# 先进行webo数据观察\n",
    "# data.WeblogInfo_19.value_counts()\n",
    "# data.WeblogInfo_21.value_counts()\n",
    "\n",
    "# 微博变量的哑变量处理\n",
    "data['WeblogInfo_19'] = ['WeblogInfo_19_'+s for s in data.WeblogInfo_19]\n",
    "data['WeblogInfo_21'] = ['WeblogInfo_21_'+s for s in data.WeblogInfo_21]\n",
    "\n",
    "for col in ['WeblogInfo_19','WeblogInfo_21']:\n",
    "    dummy_df = pd.get_dummies(data[col])\n",
    "    data = pd.concat([data,dummy_df],axis=1)\n",
    "# 删除原变量\n",
    "data = data.drop(['WeblogInfo_19','WeblogInfo_21'],axis=1)"
   ]
  },
  {
   "cell_type": "code",
   "execution_count": 16,
   "metadata": {
    "scrolled": true
   },
   "outputs": [
    {
     "data": {
      "text/plain": [
       "0     8\n",
       "1    28\n",
       "2    30\n",
       "3    27\n",
       "4    29\n",
       "Name: ListingInfo, dtype: int64"
      ]
     },
     "execution_count": 16,
     "metadata": {},
     "output_type": "execute_result"
    }
   ],
   "source": [
    "temp1 = pd.to_datetime(data.ListingInfo,errors='ignore')# 'coerce' format='%y%m%d',  infer_datetime_format=False,\n",
    "temp = temp1.dt.day + temp1.dt.month\n",
    "temp.head()"
   ]
  },
  {
   "cell_type": "markdown",
   "metadata": {},
   "source": [
    "### 2.2 特征分类\n",
    "\n",
    "- 剩余的feature中，根据dtype，把所有features分为numerical和categorical 2类.\n",
    "- numerical中，如果unique num不超过10个，也归属为categorical分类\n",
    "\n",
    "**<M8[ns],datetime64[ns]** 二者的区别在于，datetime64[ns] 是通用型数据类型，而 <M8[ns] 则属于特定型的数据类型（与物理机器有关，具体取决于大顶端和小顶端）"
   ]
  },
  {
   "cell_type": "code",
   "execution_count": 31,
   "metadata": {},
   "outputs": [],
   "source": [
    "# 特征分类， 根据dtype，把所有features分为numerical和categorical 2类\n",
    "\n",
    "categorical_features = [f for f in data.select_dtypes(include = [\"object\"]).columns \n",
    "                        if f not in(['ListingInfo', 'target'])]\n",
    "                    #  and f not in binarized_features\n",
    "#                         and 'ThirdParty_Info_Period' not in f]\n",
    "\n",
    "numerical_features = [f for f in data.select_dtypes(exclude = ['object']).columns \n",
    "                      if f not in(['ListingInfo','target'])] # 'Idx' 已经 drop\n",
    "                     #  and f not in binarized_features\n",
    "#                       and 'ThirdParty_Info_Period' not in f]\n"
   ]
  },
  {
   "cell_type": "code",
   "execution_count": 53,
   "metadata": {},
   "outputs": [],
   "source": [
    "# numerical中，如果unique num不超过10个，也归属为categorical分类\n",
    "\n",
    "feature_unique_count = []\n",
    "for f in numerical_features:\n",
    "    feature_unique_count.append((np.count_nonzero(data[f].unique()), f))\n",
    "    \n",
    "#print(sorted(feature_unique_count))\n",
    "\n",
    "for c,f in feature_unique_count:\n",
    "    if c <= 10:\n",
    "        print('{} moved from numerical to categorical'.format(f))\n",
    "        numerical_features.remove(f)\n",
    "        categorical_features.append(f)"
   ]
  },
  {
   "cell_type": "markdown",
   "metadata": {},
   "source": [
    "### 2.3 异常值(outlier)处理\n",
    "outlier删除\n",
    "- 所有的numerical feature，画出在不同target下的分布图，stripplot(with jitter)，类似于boxplot，不过更方便于大值outlier寻找。"
   ]
  },
  {
   "cell_type": "code",
   "execution_count": null,
   "metadata": {},
   "outputs": [],
   "source": []
  },
  {
   "cell_type": "markdown",
   "metadata": {},
   "source": [
    "### 2.4 衍生特征\n",
    "- 排序特征衍生  \n",
    "- periods特征衍生  \n",
    "- 地域特征衍生。 户籍所在地 居住所在地  \n",
    "- $\\cdots$\n",
    "\n"
   ]
  },
  {
   "cell_type": "code",
   "execution_count": 71,
   "metadata": {},
   "outputs": [
    {
     "ename": "NameError",
     "evalue": "name 'numerical_features' is not defined",
     "output_type": "error",
     "traceback": [
      "\u001b[0;31m---------------------------------------------------------------------------\u001b[0m",
      "\u001b[0;31mNameError\u001b[0m                                 Traceback (most recent call last)",
      "\u001b[0;32m<ipython-input-71-fa2930a73819>\u001b[0m in \u001b[0;36m<module>\u001b[0;34m\u001b[0m\n\u001b[0;32m----> 1\u001b[0;31m \u001b[0mmelt\u001b[0m \u001b[0;34m=\u001b[0m \u001b[0mpd\u001b[0m\u001b[0;34m.\u001b[0m\u001b[0mmelt\u001b[0m\u001b[0;34m(\u001b[0m\u001b[0mdata\u001b[0m\u001b[0;34m,\u001b[0m \u001b[0mid_vars\u001b[0m\u001b[0;34m=\u001b[0m\u001b[0;34m[\u001b[0m\u001b[0;34m'target'\u001b[0m\u001b[0;34m]\u001b[0m\u001b[0;34m,\u001b[0m \u001b[0mvalue_vars\u001b[0m \u001b[0;34m=\u001b[0m \u001b[0;34m[\u001b[0m\u001b[0mf\u001b[0m \u001b[0;32mfor\u001b[0m \u001b[0mf\u001b[0m \u001b[0;32min\u001b[0m \u001b[0mnumerical_features\u001b[0m\u001b[0;34m]\u001b[0m\u001b[0;34m)\u001b[0m\u001b[0;34m\u001b[0m\u001b[0;34m\u001b[0m\u001b[0m\n\u001b[0m\u001b[1;32m      2\u001b[0m \u001b[0mg\u001b[0m \u001b[0;34m=\u001b[0m \u001b[0msns\u001b[0m\u001b[0;34m.\u001b[0m\u001b[0mFacetGrid\u001b[0m\u001b[0;34m(\u001b[0m\u001b[0mdata\u001b[0m\u001b[0;34m=\u001b[0m\u001b[0mmelt\u001b[0m\u001b[0;34m,\u001b[0m \u001b[0mcol\u001b[0m\u001b[0;34m=\u001b[0m\u001b[0;34m\"variable\"\u001b[0m\u001b[0;34m,\u001b[0m \u001b[0mcol_wrap\u001b[0m\u001b[0;34m=\u001b[0m\u001b[0;36m4\u001b[0m\u001b[0;34m,\u001b[0m \u001b[0msharex\u001b[0m\u001b[0;34m=\u001b[0m\u001b[0;32mFalse\u001b[0m\u001b[0;34m,\u001b[0m \u001b[0msharey\u001b[0m\u001b[0;34m=\u001b[0m\u001b[0;32mFalse\u001b[0m\u001b[0;34m)\u001b[0m\u001b[0;34m\u001b[0m\u001b[0;34m\u001b[0m\u001b[0m\n\u001b[1;32m      3\u001b[0m \u001b[0mg\u001b[0m\u001b[0;34m.\u001b[0m\u001b[0mmap\u001b[0m\u001b[0;34m(\u001b[0m\u001b[0msns\u001b[0m\u001b[0;34m.\u001b[0m\u001b[0mstripplot\u001b[0m\u001b[0;34m,\u001b[0m \u001b[0;34m'target'\u001b[0m\u001b[0;34m,\u001b[0m \u001b[0;34m'value'\u001b[0m\u001b[0;34m,\u001b[0m \u001b[0mjitter\u001b[0m\u001b[0;34m=\u001b[0m\u001b[0;32mTrue\u001b[0m\u001b[0;34m,\u001b[0m \u001b[0mpalette\u001b[0m\u001b[0;34m=\u001b[0m\u001b[0;34m\"muted\"\u001b[0m\u001b[0;34m)\u001b[0m\u001b[0;34m\u001b[0m\u001b[0;34m\u001b[0m\u001b[0m\n",
      "\u001b[0;31mNameError\u001b[0m: name 'numerical_features' is not defined"
     ]
    }
   ],
   "source": [
    "melt = pd.melt(data, id_vars=['target'], value_vars = [f for f in numerical_features])\n",
    "g = sns.FacetGrid(data=melt, col=\"variable\", col_wrap=4, sharex=False, sharey=False)\n",
    "g.map(sns.stripplot, 'target', 'value', jitter=True, palette=\"muted\")"
   ]
  },
  {
   "cell_type": "code",
   "execution_count": 46,
   "metadata": {},
   "outputs": [
    {
     "ename": "NameError",
     "evalue": "name 'num_col' is not defined",
     "output_type": "error",
     "traceback": [
      "\u001b[0;31m---------------------------------------------------------------------------\u001b[0m",
      "\u001b[0;31mNameError\u001b[0m                                 Traceback (most recent call last)",
      "\u001b[0;32m<ipython-input-46-8f820e2fc4fb>\u001b[0m in \u001b[0;36m<module>\u001b[0;34m\u001b[0m\n\u001b[1;32m      1\u001b[0m \u001b[0;31m## 对数值型特征按数值从小到大进行排序，衍生成排序特征，排序特征异常值有更强的鲁棒性，可以增强模型的稳定性，降低过拟合风险。\u001b[0m\u001b[0;34m\u001b[0m\u001b[0;34m\u001b[0m\u001b[0;34m\u001b[0m\u001b[0m\n\u001b[1;32m      2\u001b[0m \u001b[0;34m\u001b[0m\u001b[0m\n\u001b[0;32m----> 3\u001b[0;31m \u001b[0mnum_col2\u001b[0m \u001b[0;34m=\u001b[0m \u001b[0;34m[\u001b[0m\u001b[0mcol\u001b[0m \u001b[0;32mfor\u001b[0m \u001b[0mcol\u001b[0m \u001b[0;32min\u001b[0m \u001b[0mnum_col\u001b[0m \u001b[0;32mif\u001b[0m \u001b[0mcol\u001b[0m\u001b[0;34m!=\u001b[0m\u001b[0;34m'target'\u001b[0m\u001b[0;34m]\u001b[0m\u001b[0;34m\u001b[0m\u001b[0;34m\u001b[0m\u001b[0m\n\u001b[0m\u001b[1;32m      4\u001b[0m \u001b[0;31m# 筛选出只有数值型变量的数据集\u001b[0m\u001b[0;34m\u001b[0m\u001b[0;34m\u001b[0m\u001b[0;34m\u001b[0m\u001b[0m\n\u001b[1;32m      5\u001b[0m \u001b[0mnum_data\u001b[0m \u001b[0;34m=\u001b[0m \u001b[0mdata1\u001b[0m\u001b[0;34m.\u001b[0m\u001b[0mloc\u001b[0m\u001b[0;34m[\u001b[0m\u001b[0;34m:\u001b[0m\u001b[0;34m,\u001b[0m\u001b[0mnum_col2\u001b[0m\u001b[0;34m]\u001b[0m\u001b[0;34m\u001b[0m\u001b[0;34m\u001b[0m\u001b[0m\n",
      "\u001b[0;31mNameError\u001b[0m: name 'num_col' is not defined"
     ]
    }
   ],
   "source": [
    "## 对数值型特征按数值从小到大进行排序，衍生成排序特征，排序特征异常值有更强的鲁棒性，可以增强模型的稳定性，降低过拟合风险。\n",
    "\n",
    "num_col2 = [col for col in num_col if col!='target']\n",
    "# 筛选出只有数值型变量的数据集\n",
    "num_data = data1.loc[:,num_col2]\n",
    "\n",
    "# 排序特征衍生\n",
    "for col in num_col2:\n",
    "    num_data['rank'+col] = num_data[col].rank(method='max')/num_data.shape[0]\n",
    "\n",
    "# 将排序特征转为单独的数据集\n",
    "rank_col = [col for col in num_data.columns if col not in num_col2]\n",
    "rank_df = num_data.loc[:,rank_col]"
   ]
  },
  {
   "cell_type": "code",
   "execution_count": null,
   "metadata": {},
   "outputs": [],
   "source": [
    "# 生成只包含periods的临时表\n",
    "periods_col = [i for i in num_col2 if i.find('Period')>0]\n",
    "periods_col2 = periods_col+['target']\n",
    "periods_data = data1.loc[:,periods_col2]\n"
   ]
  },
  {
   "cell_type": "code",
   "execution_count": null,
   "metadata": {},
   "outputs": [],
   "source": []
  },
  {
   "cell_type": "markdown",
   "metadata": {},
   "source": [
    "> #### 2. 特征选择\n",
    "200多个特征里可能有效的特征不会很多。在这里做特征选择相关的工作。 在特征选择这一块请使用```树```模型。 比如sklearn自带的特征选择模块（https://scikit-learn.org/stable/modules/feature_selection.html）， 或者直接使用XGBoost等模型来直接选择。 这些模型训练好之后你可以直接通过```feature_importance_values```属性来获取。"
   ]
  },
  {
   "cell_type": "code",
   "execution_count": null,
   "metadata": {},
   "outputs": [],
   "source": []
  },
  {
   "cell_type": "code",
   "execution_count": null,
   "metadata": {},
   "outputs": [],
   "source": []
  },
  {
   "cell_type": "code",
   "execution_count": null,
   "metadata": {},
   "outputs": [],
   "source": []
  },
  {
   "cell_type": "code",
   "execution_count": null,
   "metadata": {},
   "outputs": [],
   "source": []
  },
  {
   "cell_type": "code",
   "execution_count": null,
   "metadata": {},
   "outputs": [],
   "source": []
  },
  {
   "cell_type": "code",
   "execution_count": null,
   "metadata": {},
   "outputs": [],
   "source": []
  },
  {
   "cell_type": "markdown",
   "metadata": {},
   "source": [
    "> #### 3. XGBoost来训练风控模型，结果以AUC为准\n",
    "https://github.com/dmlc/xgboost   这是XGBoost library具体的地址, 具有详细的文档。 https://pypi.org/project/xgboost/ 里有安装的步骤。 试着去调一下它的超参数，使得得到最好的效果。 一定要注意不需要使用测试数据来训练。 最终的结果以测试数据上的AUC为标准。 "
   ]
  },
  {
   "cell_type": "code",
   "execution_count": 2,
   "metadata": {},
   "outputs": [],
   "source": [
    "data_test = pd.read_csv('data/Test/PPD_Master_GBK_2_Test_Set.csv',encoding='gb18030')\n"
   ]
  },
  {
   "cell_type": "code",
   "execution_count": null,
   "metadata": {},
   "outputs": [],
   "source": []
  },
  {
   "cell_type": "code",
   "execution_count": null,
   "metadata": {},
   "outputs": [],
   "source": []
  },
  {
   "cell_type": "code",
   "execution_count": null,
   "metadata": {},
   "outputs": [],
   "source": []
  },
  {
   "cell_type": "markdown",
   "metadata": {},
   "source": [
    "Reference:  \n",
    "GitHub https://github.com/wikke/ppdai_risk_evaluation  \n",
    "[Kesci“魔镜杯”风控算法大赛铜奖解决方案](https://blog.csdn.net/Bryan__/article/details/51190452)  \n",
    "知乎 [风控模型实战--\"魔镜杯\"风控算法大赛](https://zhuanlan.zhihu.com/p/56864235)  \n",
    "推荐细读 [机器学习之 特征工程](https://juejin.im/post/5b569edff265da0f7b2f6c65)"
   ]
  }
 ],
 "metadata": {
  "kernelspec": {
   "display_name": "Python 3",
   "language": "python",
   "name": "python3"
  },
  "language_info": {
   "codemirror_mode": {
    "name": "ipython",
    "version": 3
   },
   "file_extension": ".py",
   "mimetype": "text/x-python",
   "name": "python",
   "nbconvert_exporter": "python",
   "pygments_lexer": "ipython3",
   "version": "3.7.4"
  }
 },
 "nbformat": 4,
 "nbformat_minor": 2
}
