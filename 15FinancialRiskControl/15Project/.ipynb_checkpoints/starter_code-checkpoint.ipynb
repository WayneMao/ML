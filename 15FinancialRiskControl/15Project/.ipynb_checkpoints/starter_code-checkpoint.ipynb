{
 "cells": [
  {
   "cell_type": "markdown",
   "metadata": {},
   "source": [
    "## 金融风控项目\n",
    "在此项目中，你需要完成金融风控模型的搭建。 基于一个用户的基本信息、历史信息来预测逾期与否。采样的具体数据是拍拍贷数据。https://www.kesci.com/home/competition/56cd5f02b89b5bd026cb39c9/content/1\n",
    "在此数据中提供了三种不同类型的数据:\n",
    "1. Master: 用户的主要信息\n",
    "2. Loginfo: 登录信息\n",
    "3. Userupdateinfo: 修改信息\n",
    "\n",
    "在本次项目中，我们只使用```Master```的信息来预测一个用户是否会逾期。 数据里有一个字段叫作```Target```是样本的标签（label)。 在```Master```表格里，包含200多个特征，但不少特征具有缺失值。 做项目的时候需要仔细处理一下。 \n",
    "\n",
    "对于特征处理方面的技术，请参考本章视频课程里的内容。\n",
    "\n",
    "本项目区别于之前的项目，希望大家能够开放性地思考，不要太局限于给定的条条框框，把目前为止学到的知识都用起来。所以在项目的设计上区别于之前的，没有设置太多的框架性的，大家可以按照自己的思路灵活做项目。 由于项目本身来自于数据竞赛，所以可以试着跟竞赛里的TOP选手的结果做一下对比，看看跟他们的差距或者优势在哪儿。\n",
    "\n",
    "```数据```\n",
    "- ```Training/PPD_Training_Master_GBK_3_1_Training_Set.csv```:  训练数据\n",
    "- ```Test/PPD_Master_GBK_2_Test_Set.csv```: 测试数据\n",
    "\n",
    "\n",
    "强调：一定要把注释写清楚。 每个函数，每一个模块具体做什么写清楚。"
   ]
  },
  {
   "cell_type": "markdown",
   "metadata": {},
   "source": [
    "> 注意： 除了下面导入的库，还有sklearn、XGBoost等经典的库之外，建议不要使用其他的函数库。 如果你不得不使用一些其他特殊的库，请把环境注明在requirements.txt里面，不然我们判作业的时候就没有办法去评判了。 "
   ]
  },
  {
   "cell_type": "code",
   "execution_count": 1,
   "metadata": {},
   "outputs": [],
   "source": [
    "import numpy as np \n",
    "import math \n",
    "import pandas as pd \n",
    "pd.set_option('display.float_format',lambda x:'%.3f' % x)\n",
    "import matplotlib.pyplot as plt \n",
    "plt.style.use('ggplot')\n",
    "%matplotlib inline\n",
    "import seaborn as sns \n",
    "sns.set_palette('muted')\n",
    "sns.set_style('darkgrid')\n",
    "import warnings\n",
    "warnings.filterwarnings('ignore')\n",
    "import os \n"
   ]
  },
  {
   "cell_type": "code",
   "execution_count": 2,
   "metadata": {},
   "outputs": [
    {
     "name": "stdout",
     "output_type": "stream",
     "text": [
      "(30000, 228)\n"
     ]
    }
   ],
   "source": [
    "# 读取Master数据\n",
    "data = pd.read_csv('data/Training/PPD_Training_Master_GBK_3_1_Training_Set.csv',encoding='gb18030')\n",
    "print (data.shape)"
   ]
  },
  {
   "cell_type": "code",
   "execution_count": 3,
   "metadata": {},
   "outputs": [
    {
     "data": {
      "text/html": [
       "<div>\n",
       "<style scoped>\n",
       "    .dataframe tbody tr th:only-of-type {\n",
       "        vertical-align: middle;\n",
       "    }\n",
       "\n",
       "    .dataframe tbody tr th {\n",
       "        vertical-align: top;\n",
       "    }\n",
       "\n",
       "    .dataframe thead th {\n",
       "        text-align: right;\n",
       "    }\n",
       "</style>\n",
       "<table border=\"1\" class=\"dataframe\">\n",
       "  <thead>\n",
       "    <tr style=\"text-align: right;\">\n",
       "      <th></th>\n",
       "      <th>Idx</th>\n",
       "      <th>UserInfo_1</th>\n",
       "      <th>UserInfo_2</th>\n",
       "      <th>UserInfo_3</th>\n",
       "      <th>UserInfo_4</th>\n",
       "      <th>WeblogInfo_1</th>\n",
       "      <th>WeblogInfo_2</th>\n",
       "      <th>WeblogInfo_3</th>\n",
       "      <th>WeblogInfo_4</th>\n",
       "      <th>WeblogInfo_5</th>\n",
       "      <th>...</th>\n",
       "      <th>SocialNetwork_10</th>\n",
       "      <th>SocialNetwork_11</th>\n",
       "      <th>SocialNetwork_12</th>\n",
       "      <th>SocialNetwork_13</th>\n",
       "      <th>SocialNetwork_14</th>\n",
       "      <th>SocialNetwork_15</th>\n",
       "      <th>SocialNetwork_16</th>\n",
       "      <th>SocialNetwork_17</th>\n",
       "      <th>target</th>\n",
       "      <th>ListingInfo</th>\n",
       "    </tr>\n",
       "  </thead>\n",
       "  <tbody>\n",
       "    <tr>\n",
       "      <td>0</td>\n",
       "      <td>10001</td>\n",
       "      <td>1.000</td>\n",
       "      <td>深圳</td>\n",
       "      <td>4.000</td>\n",
       "      <td>深圳</td>\n",
       "      <td>nan</td>\n",
       "      <td>1.000</td>\n",
       "      <td>nan</td>\n",
       "      <td>1.000</td>\n",
       "      <td>1.000</td>\n",
       "      <td>...</td>\n",
       "      <td>222</td>\n",
       "      <td>-1</td>\n",
       "      <td>0</td>\n",
       "      <td>0</td>\n",
       "      <td>0</td>\n",
       "      <td>0</td>\n",
       "      <td>0</td>\n",
       "      <td>1</td>\n",
       "      <td>0</td>\n",
       "      <td>2014/3/5</td>\n",
       "    </tr>\n",
       "    <tr>\n",
       "      <td>1</td>\n",
       "      <td>10002</td>\n",
       "      <td>1.000</td>\n",
       "      <td>温州</td>\n",
       "      <td>4.000</td>\n",
       "      <td>温州</td>\n",
       "      <td>nan</td>\n",
       "      <td>0.000</td>\n",
       "      <td>nan</td>\n",
       "      <td>1.000</td>\n",
       "      <td>1.000</td>\n",
       "      <td>...</td>\n",
       "      <td>1</td>\n",
       "      <td>-1</td>\n",
       "      <td>0</td>\n",
       "      <td>0</td>\n",
       "      <td>0</td>\n",
       "      <td>0</td>\n",
       "      <td>0</td>\n",
       "      <td>2</td>\n",
       "      <td>0</td>\n",
       "      <td>2014/2/26</td>\n",
       "    </tr>\n",
       "    <tr>\n",
       "      <td>2</td>\n",
       "      <td>10003</td>\n",
       "      <td>1.000</td>\n",
       "      <td>宜昌</td>\n",
       "      <td>3.000</td>\n",
       "      <td>宜昌</td>\n",
       "      <td>nan</td>\n",
       "      <td>0.000</td>\n",
       "      <td>nan</td>\n",
       "      <td>2.000</td>\n",
       "      <td>2.000</td>\n",
       "      <td>...</td>\n",
       "      <td>-1</td>\n",
       "      <td>-1</td>\n",
       "      <td>-1</td>\n",
       "      <td>1</td>\n",
       "      <td>0</td>\n",
       "      <td>0</td>\n",
       "      <td>0</td>\n",
       "      <td>0</td>\n",
       "      <td>0</td>\n",
       "      <td>2014/2/28</td>\n",
       "    </tr>\n",
       "    <tr>\n",
       "      <td>3</td>\n",
       "      <td>10006</td>\n",
       "      <td>4.000</td>\n",
       "      <td>南平</td>\n",
       "      <td>1.000</td>\n",
       "      <td>南平</td>\n",
       "      <td>nan</td>\n",
       "      <td>nan</td>\n",
       "      <td>nan</td>\n",
       "      <td>nan</td>\n",
       "      <td>nan</td>\n",
       "      <td>...</td>\n",
       "      <td>-1</td>\n",
       "      <td>-1</td>\n",
       "      <td>-1</td>\n",
       "      <td>0</td>\n",
       "      <td>0</td>\n",
       "      <td>0</td>\n",
       "      <td>0</td>\n",
       "      <td>0</td>\n",
       "      <td>0</td>\n",
       "      <td>2014/2/25</td>\n",
       "    </tr>\n",
       "    <tr>\n",
       "      <td>4</td>\n",
       "      <td>10007</td>\n",
       "      <td>5.000</td>\n",
       "      <td>辽阳</td>\n",
       "      <td>1.000</td>\n",
       "      <td>辽阳</td>\n",
       "      <td>nan</td>\n",
       "      <td>0.000</td>\n",
       "      <td>nan</td>\n",
       "      <td>1.000</td>\n",
       "      <td>1.000</td>\n",
       "      <td>...</td>\n",
       "      <td>-1</td>\n",
       "      <td>-1</td>\n",
       "      <td>-1</td>\n",
       "      <td>0</td>\n",
       "      <td>0</td>\n",
       "      <td>0</td>\n",
       "      <td>0</td>\n",
       "      <td>0</td>\n",
       "      <td>0</td>\n",
       "      <td>2014/2/27</td>\n",
       "    </tr>\n",
       "  </tbody>\n",
       "</table>\n",
       "<p>5 rows × 228 columns</p>\n",
       "</div>"
      ],
      "text/plain": [
       "     Idx  UserInfo_1 UserInfo_2  UserInfo_3 UserInfo_4  WeblogInfo_1  \\\n",
       "0  10001       1.000         深圳       4.000         深圳           nan   \n",
       "1  10002       1.000         温州       4.000         温州           nan   \n",
       "2  10003       1.000         宜昌       3.000         宜昌           nan   \n",
       "3  10006       4.000         南平       1.000         南平           nan   \n",
       "4  10007       5.000         辽阳       1.000         辽阳           nan   \n",
       "\n",
       "   WeblogInfo_2  WeblogInfo_3  WeblogInfo_4  WeblogInfo_5  ...  \\\n",
       "0         1.000           nan         1.000         1.000  ...   \n",
       "1         0.000           nan         1.000         1.000  ...   \n",
       "2         0.000           nan         2.000         2.000  ...   \n",
       "3           nan           nan           nan           nan  ...   \n",
       "4         0.000           nan         1.000         1.000  ...   \n",
       "\n",
       "   SocialNetwork_10  SocialNetwork_11  SocialNetwork_12  SocialNetwork_13  \\\n",
       "0               222                -1                 0                 0   \n",
       "1                 1                -1                 0                 0   \n",
       "2                -1                -1                -1                 1   \n",
       "3                -1                -1                -1                 0   \n",
       "4                -1                -1                -1                 0   \n",
       "\n",
       "   SocialNetwork_14  SocialNetwork_15  SocialNetwork_16  SocialNetwork_17  \\\n",
       "0                 0                 0                 0                 1   \n",
       "1                 0                 0                 0                 2   \n",
       "2                 0                 0                 0                 0   \n",
       "3                 0                 0                 0                 0   \n",
       "4                 0                 0                 0                 0   \n",
       "\n",
       "   target  ListingInfo  \n",
       "0       0     2014/3/5  \n",
       "1       0    2014/2/26  \n",
       "2       0    2014/2/28  \n",
       "3       0    2014/2/25  \n",
       "4       0    2014/2/27  \n",
       "\n",
       "[5 rows x 228 columns]"
      ]
     },
     "execution_count": 3,
     "metadata": {},
     "output_type": "execute_result"
    }
   ],
   "source": [
    "# 展示记录\n",
    "#data.iloc[:,:14].head()\n",
    "data.head()"
   ]
  },
  {
   "cell_type": "code",
   "execution_count": 4,
   "metadata": {},
   "outputs": [
    {
     "data": {
      "text/plain": [
       "0    27802\n",
       "1     2198\n",
       "Name: target, dtype: int64"
      ]
     },
     "execution_count": 4,
     "metadata": {},
     "output_type": "execute_result"
    }
   ],
   "source": [
    "# 正负样本的比例， 可以看出样本比例不平衡的\n",
    "data.target.value_counts()"
   ]
  },
  {
   "cell_type": "markdown",
   "metadata": {},
   "source": [
    "Master  \n",
    "每一行代表一个样本（一笔成功成交借款），每个样本包含200多个各类字段。\n",
    "\n",
    "- idx：每一笔贷款的unique key，可以与另外2个文件里的idx相匹配。\n",
    "\n",
    "- UserInfo_*：借款人特征字段\n",
    "\n",
    "- WeblogInfo_*：Info网络行为字段\n",
    "\n",
    "- Education_Info*：学历学籍字段\n",
    "\n",
    "- ThirdParty_Info_PeriodN_*：第三方数据时间段N字段\n",
    "\n",
    "- SocialNetwork_*：社交网络字段\n",
    "\n",
    "- LinstingInfo：借款成交时间\n",
    "\n",
    "- Target：违约标签（1 = 贷款违约，0 = 正常还款）。测试集里不包含target字段。"
   ]
  },
  {
   "cell_type": "markdown",
   "metadata": {},
   "source": [
    "好了，剩下的部分需要由大家完成。 我大致给一下思路，然后大家可以按照这个思路去一步步完成。 "
   ]
  },
  {
   "cell_type": "markdown",
   "metadata": {},
   "source": [
    "> #### 1. 数据的预处。 需要考虑以下几个方面：\n",
    "- ```缺失值```。数据里有大量的缺失值，需要做一些处理。 \n",
    "- ```字符串的清洗```。比如“北京市”和“北京”合并成“北京”， 统一转换成小写等\n",
    "- ```二值化```。具体方法请参考课程里的介绍\n",
    "- ```衍生特征```：比如户籍地和当前城市是否是同一个？ \n",
    "- ```特征的独热编码```：对于类别型特征使用独热编码形式\n",
    "- ```连续性特征的处理```：根据情况来处理\n",
    "- ```其他```: 根据情况，自行决定要不要做"
   ]
  },
  {
   "cell_type": "markdown",
   "metadata": {},
   "source": [
    "## 1 数据清洗 \n",
    "\n",
    "### 1.1 缺失值处理\n",
    "- 删除数据缺失比例很大的列，比如超过20%为nan  \n",
    "- 删除数据缺失比例大的行，并保持删除的行数不超过总体的1%  \n",
    "- 填补剩余缺失值，通过value_count观察是连续/离散变量，然后用最高频/平均数填补nan。这里通过观察，而不是判断类型是否object，更贴近实际情况"
   ]
  },
  {
   "cell_type": "code",
   "execution_count": 5,
   "metadata": {},
   "outputs": [
    {
     "name": "stdout",
     "output_type": "stream",
     "text": [
      "Index(['UserInfo_1', 'UserInfo_2', 'UserInfo_3', 'UserInfo_4', 'WeblogInfo_1',\n",
      "       'WeblogInfo_2', 'WeblogInfo_3', 'WeblogInfo_4', 'WeblogInfo_5',\n",
      "       'WeblogInfo_6',\n",
      "       ...\n",
      "       'SocialNetwork_10', 'SocialNetwork_11', 'SocialNetwork_12',\n",
      "       'SocialNetwork_13', 'SocialNetwork_14', 'SocialNetwork_15',\n",
      "       'SocialNetwork_16', 'SocialNetwork_17', 'target', 'ListingInfo'],\n",
      "      dtype='object', length=227)\n"
     ]
    }
   ],
   "source": [
    "# 查看 某一个特征的总数是否等于 样本的总数\n",
    "# 如果是则 丢弃 这个特征，显然这样的特征是无用的\n",
    "\n",
    "for i in data.columns:\n",
    "    if len(data[i].unique()) == len(data):\n",
    "        data.drop(i,axis=1,inplace=True)\n",
    "    else:\n",
    "        pass\n",
    "print(data.columns)\n",
    "# drop idx"
   ]
  },
  {
   "cell_type": "code",
   "execution_count": 6,
   "metadata": {},
   "outputs": [
    {
     "data": {
      "text/html": [
       "<div>\n",
       "<style scoped>\n",
       "    .dataframe tbody tr th:only-of-type {\n",
       "        vertical-align: middle;\n",
       "    }\n",
       "\n",
       "    .dataframe tbody tr th {\n",
       "        vertical-align: top;\n",
       "    }\n",
       "\n",
       "    .dataframe thead th {\n",
       "        text-align: right;\n",
       "    }\n",
       "</style>\n",
       "<table border=\"1\" class=\"dataframe\">\n",
       "  <thead>\n",
       "    <tr style=\"text-align: right;\">\n",
       "      <th></th>\n",
       "      <th>UserInfo_1</th>\n",
       "      <th>UserInfo_2</th>\n",
       "      <th>UserInfo_3</th>\n",
       "      <th>UserInfo_4</th>\n",
       "      <th>WeblogInfo_2</th>\n",
       "      <th>WeblogInfo_4</th>\n",
       "      <th>WeblogInfo_5</th>\n",
       "      <th>WeblogInfo_6</th>\n",
       "      <th>WeblogInfo_7</th>\n",
       "      <th>WeblogInfo_8</th>\n",
       "      <th>...</th>\n",
       "      <th>SocialNetwork_10</th>\n",
       "      <th>SocialNetwork_11</th>\n",
       "      <th>SocialNetwork_12</th>\n",
       "      <th>SocialNetwork_13</th>\n",
       "      <th>SocialNetwork_14</th>\n",
       "      <th>SocialNetwork_15</th>\n",
       "      <th>SocialNetwork_16</th>\n",
       "      <th>SocialNetwork_17</th>\n",
       "      <th>target</th>\n",
       "      <th>ListingInfo</th>\n",
       "    </tr>\n",
       "  </thead>\n",
       "  <tbody>\n",
       "    <tr>\n",
       "      <td>0</td>\n",
       "      <td>1.000</td>\n",
       "      <td>深圳</td>\n",
       "      <td>4.000</td>\n",
       "      <td>深圳</td>\n",
       "      <td>1.000</td>\n",
       "      <td>1.000</td>\n",
       "      <td>1.000</td>\n",
       "      <td>1.000</td>\n",
       "      <td>14</td>\n",
       "      <td>0</td>\n",
       "      <td>...</td>\n",
       "      <td>222</td>\n",
       "      <td>-1</td>\n",
       "      <td>0</td>\n",
       "      <td>0</td>\n",
       "      <td>0</td>\n",
       "      <td>0</td>\n",
       "      <td>0</td>\n",
       "      <td>1</td>\n",
       "      <td>0</td>\n",
       "      <td>2014/3/5</td>\n",
       "    </tr>\n",
       "    <tr>\n",
       "      <td>1</td>\n",
       "      <td>1.000</td>\n",
       "      <td>温州</td>\n",
       "      <td>4.000</td>\n",
       "      <td>温州</td>\n",
       "      <td>0.000</td>\n",
       "      <td>1.000</td>\n",
       "      <td>1.000</td>\n",
       "      <td>1.000</td>\n",
       "      <td>14</td>\n",
       "      <td>0</td>\n",
       "      <td>...</td>\n",
       "      <td>1</td>\n",
       "      <td>-1</td>\n",
       "      <td>0</td>\n",
       "      <td>0</td>\n",
       "      <td>0</td>\n",
       "      <td>0</td>\n",
       "      <td>0</td>\n",
       "      <td>2</td>\n",
       "      <td>0</td>\n",
       "      <td>2014/2/26</td>\n",
       "    </tr>\n",
       "    <tr>\n",
       "      <td>2</td>\n",
       "      <td>1.000</td>\n",
       "      <td>宜昌</td>\n",
       "      <td>3.000</td>\n",
       "      <td>宜昌</td>\n",
       "      <td>0.000</td>\n",
       "      <td>2.000</td>\n",
       "      <td>2.000</td>\n",
       "      <td>2.000</td>\n",
       "      <td>9</td>\n",
       "      <td>3</td>\n",
       "      <td>...</td>\n",
       "      <td>-1</td>\n",
       "      <td>-1</td>\n",
       "      <td>-1</td>\n",
       "      <td>1</td>\n",
       "      <td>0</td>\n",
       "      <td>0</td>\n",
       "      <td>0</td>\n",
       "      <td>0</td>\n",
       "      <td>0</td>\n",
       "      <td>2014/2/28</td>\n",
       "    </tr>\n",
       "    <tr>\n",
       "      <td>3</td>\n",
       "      <td>4.000</td>\n",
       "      <td>南平</td>\n",
       "      <td>1.000</td>\n",
       "      <td>南平</td>\n",
       "      <td>nan</td>\n",
       "      <td>nan</td>\n",
       "      <td>nan</td>\n",
       "      <td>nan</td>\n",
       "      <td>2</td>\n",
       "      <td>0</td>\n",
       "      <td>...</td>\n",
       "      <td>-1</td>\n",
       "      <td>-1</td>\n",
       "      <td>-1</td>\n",
       "      <td>0</td>\n",
       "      <td>0</td>\n",
       "      <td>0</td>\n",
       "      <td>0</td>\n",
       "      <td>0</td>\n",
       "      <td>0</td>\n",
       "      <td>2014/2/25</td>\n",
       "    </tr>\n",
       "    <tr>\n",
       "      <td>4</td>\n",
       "      <td>5.000</td>\n",
       "      <td>辽阳</td>\n",
       "      <td>1.000</td>\n",
       "      <td>辽阳</td>\n",
       "      <td>0.000</td>\n",
       "      <td>1.000</td>\n",
       "      <td>1.000</td>\n",
       "      <td>1.000</td>\n",
       "      <td>3</td>\n",
       "      <td>0</td>\n",
       "      <td>...</td>\n",
       "      <td>-1</td>\n",
       "      <td>-1</td>\n",
       "      <td>-1</td>\n",
       "      <td>0</td>\n",
       "      <td>0</td>\n",
       "      <td>0</td>\n",
       "      <td>0</td>\n",
       "      <td>0</td>\n",
       "      <td>0</td>\n",
       "      <td>2014/2/27</td>\n",
       "    </tr>\n",
       "  </tbody>\n",
       "</table>\n",
       "<p>5 rows × 221 columns</p>\n",
       "</div>"
      ],
      "text/plain": [
       "   UserInfo_1 UserInfo_2  UserInfo_3 UserInfo_4  WeblogInfo_2  WeblogInfo_4  \\\n",
       "0       1.000         深圳       4.000         深圳         1.000         1.000   \n",
       "1       1.000         温州       4.000         温州         0.000         1.000   \n",
       "2       1.000         宜昌       3.000         宜昌         0.000         2.000   \n",
       "3       4.000         南平       1.000         南平           nan           nan   \n",
       "4       5.000         辽阳       1.000         辽阳         0.000         1.000   \n",
       "\n",
       "   WeblogInfo_5  WeblogInfo_6  WeblogInfo_7  WeblogInfo_8  ...  \\\n",
       "0         1.000         1.000            14             0  ...   \n",
       "1         1.000         1.000            14             0  ...   \n",
       "2         2.000         2.000             9             3  ...   \n",
       "3           nan           nan             2             0  ...   \n",
       "4         1.000         1.000             3             0  ...   \n",
       "\n",
       "   SocialNetwork_10  SocialNetwork_11  SocialNetwork_12  SocialNetwork_13  \\\n",
       "0               222                -1                 0                 0   \n",
       "1                 1                -1                 0                 0   \n",
       "2                -1                -1                -1                 1   \n",
       "3                -1                -1                -1                 0   \n",
       "4                -1                -1                -1                 0   \n",
       "\n",
       "   SocialNetwork_14  SocialNetwork_15  SocialNetwork_16  SocialNetwork_17  \\\n",
       "0                 0                 0                 0                 1   \n",
       "1                 0                 0                 0                 2   \n",
       "2                 0                 0                 0                 0   \n",
       "3                 0                 0                 0                 0   \n",
       "4                 0                 0                 0                 0   \n",
       "\n",
       "   target  ListingInfo  \n",
       "0       0     2014/3/5  \n",
       "1       0    2014/2/26  \n",
       "2       0    2014/2/28  \n",
       "3       0    2014/2/25  \n",
       "4       0    2014/2/27  \n",
       "\n",
       "[5 rows x 221 columns]"
      ]
     },
     "execution_count": 6,
     "metadata": {},
     "output_type": "execute_result"
    }
   ],
   "source": [
    "## 删除数据缺失比例超过一定比例的 特征\n",
    "null_sum = data.isnull().sum() ## 每个特征 缺失值统计\n",
    "null_sum = null_sum[null_sum!=0]\n",
    "null_sum_df = pd.DataFrame(null_sum, columns=['num'])\n",
    "null_sum_df['ratio'] = null_sum_df['num'] / 30000.0\n",
    "null_sum_df.sort_values(by='ratio', ascending=False, inplace=True)# 降序排列\n",
    "# null_sum_df.head()\n",
    "# 删除缺失严重的列\n",
    "data.drop(['WeblogInfo_3', 'WeblogInfo_1', 'UserInfo_11', 'UserInfo_13', 'UserInfo_12', 'WeblogInfo_20'],\n",
    "                  axis=1, inplace=True)\n",
    "data.head()\n",
    "# 目前还剩221-1个特征 1个label"
   ]
  },
  {
   "cell_type": "code",
   "execution_count": 16,
   "metadata": {},
   "outputs": [
    {
     "name": "stdout",
     "output_type": "stream",
     "text": [
      "before train_master shape (30000, 221)\n",
      "after train_master shape (29189, 221)\n"
     ]
    }
   ],
   "source": [
    "# 删除缺失严重的行\n",
    "record_nan = data.isnull().sum(axis=1).sort_values(ascending=False)\n",
    "drop_record_index = [i for i in record_nan.loc[(record_nan>=5)].index]\n",
    "print('before train_master shape {}'.format(data.shape))\n",
    "data.drop(drop_record_index, inplace=True)\n",
    "print('after train_master shape {}'.format(data.shape))"
   ]
  },
  {
   "cell_type": "code",
   "execution_count": 33,
   "metadata": {},
   "outputs": [
    {
     "name": "stdout",
     "output_type": "stream",
     "text": [
      "before all nan num: 0\n",
      "after all nan num: 0\n"
     ]
    }
   ],
   "source": [
    "# 填补缺失值\n",
    "print('before all nan num: {}'.format(data.isnull().sum().sum())) # 计算缺失值 总数\n",
    "\n",
    "data.loc[data['UserInfo_2'].isnull(), 'UserInfo_2'] = '未知地点'\n",
    "data.loc[data['UserInfo_4'].isnull(), 'UserInfo_4'] = '未知地点'\n",
    "# print(data.loc[data['UserInfo_2'].isnull(), 'UserInfo_2'])\n",
    "def fill_nan(f, method):\n",
    "    if method == 'most':\n",
    "        common_value = pd.value_counts(data[f], ascending=False).index[0]\n",
    "    else:\n",
    "        common_value = data[f].mean()\n",
    "    data.loc[data[f].isnull(), f] = common_value\n",
    "\n",
    "# 还得判断一个特征其值是 连续 还是 离散的\n",
    "# 通过pd.value_counts(data[f])的观察得到经验\n",
    "fill_nan('UserInfo_1', 'most') # 高频数 填补\n",
    "fill_nan('UserInfo_3', 'most')\n",
    "fill_nan('WeblogInfo_2', 'most')\n",
    "fill_nan('WeblogInfo_4', 'mean')\n",
    "fill_nan('WeblogInfo_5', 'mean')\n",
    "fill_nan('WeblogInfo_6', 'mean')\n",
    "fill_nan('WeblogInfo_19', 'most')\n",
    "fill_nan('WeblogInfo_21', 'most')\n",
    "\n",
    "print('after all nan num: {}'.format(data.isnull().sum().sum()))"
   ]
  },
  {
   "attachments": {},
   "cell_type": "markdown",
   "metadata": {},
   "source": [
    "### 1.2 字符串的清洗\n",
    "- 比如“北京市”和“北京”合并成“北京”\n",
    "- 统一转换成小写等  \n",
    "\n",
    "城市： 'UserInfo_2','UserInfo_4','UserInfo_8','UserInfo_20'(貌似全含有市)  \n",
    "省： 'UserInfo_7',UserInfo_19  \n",
    "通讯运营商：UserInfo_9(中国移动、中国联通、不详...)  \n",
    "婚姻： UserInfo_22  \n",
    "······"
   ]
  },
  {
   "cell_type": "code",
   "execution_count": 54,
   "metadata": {},
   "outputs": [
    {
     "name": "stdout",
     "output_type": "stream",
     "text": [
      "UserInfo_2:328\n",
      "\t\n",
      "UserInfo_4:331\n",
      "\t\n",
      "UserInfo_8:387\n",
      "\t\n",
      "UserInfo_20:297\n",
      "\t\n",
      "['深圳' '温州' '宜昌' '南平' '辽阳' '不详' '包头' '广州' '赤峰' '鄂州' '武汉' '长沙' '漳州' '牡丹江'\n",
      " '太原' '北京' '忻州' '三明' '临沂' '福州' '泰州' '大同' '红河' '郴州' '常州' '湖州' '佛山' '天津'\n",
      " '南宁' '聊城' '柳州' '重庆' '杭州' '景德镇' '上饶' '鸡西' '资阳' '成都' '济宁' '滨州' '渭南' '都匀'\n",
      " '廊坊' '西宁' '金华' '龙岩' '清远' '兰州' '徐州' '潍坊']\n",
      "After\n",
      "UserInfo_2:328\n",
      "\t\n",
      "UserInfo_4:331\n",
      "\t\n",
      "UserInfo_8:387\n",
      "\t\n",
      "UserInfo_20:297\n",
      "\t\n"
     ]
    }
   ],
   "source": [
    "# 城市特征清洗\n",
    "\n",
    "# 计算4个城市特征的非重复项计数，观察是否有数据异常\n",
    "for col in ['UserInfo_2','UserInfo_4','UserInfo_8','UserInfo_20']:\n",
    "    print('{}:{}'.format(col,data[col].nunique())) # 注意 nunique() 和 unique() 的区别\n",
    "    print('\\t')\n",
    "\n",
    "# UserInfo_8相对其他特征nunique较大，\n",
    "# data.UserInfo_2.unique()\n",
    "# data.UserInfo_4.unique()\n",
    "print(data.UserInfo_8.unique()[:50])\n",
    "# UserInfo_8 发现有些城市有\"市\"，有些没有，需要做一下格式转换，去掉字符串后缀\"市\".\n",
    "\n",
    "# UserInfo_8清洗处理，处理后非重复项计数减小到400\n",
    "data['UserInfo_2']=[s[:-1] if s.find('市')>0 else s[:] for s in data.UserInfo_2] \n",
    "data['UserInfo_4']=[s[:-1] if s.find('市')>0 else s[:] for s in data.UserInfo_4] \n",
    "data['UserInfo_8']=[s[:-1] if s.find('市')>0 else s[:] for s in data.UserInfo_8] \n",
    "data['UserInfo_20']=[s[:-1] if s.find('市')>0 else s[:] for s in data.UserInfo_20] \n",
    "\n",
    "print(\"After\")\n",
    "for col in ['UserInfo_2','UserInfo_4','UserInfo_8','UserInfo_20']:\n",
    "    print('{}:{}'.format(col,data[col].nunique())) # 注意 nunique() 和 unique() 的区别\n",
    "    print('\\t')"
   ]
  },
  {
   "cell_type": "code",
   "execution_count": 53,
   "metadata": {},
   "outputs": [
    {
     "name": "stdout",
     "output_type": "stream",
     "text": [
      "UserInfo_2:328\n",
      "\t\n",
      "UserInfo_4:331\n",
      "\t\n",
      "UserInfo_8:387\n",
      "\t\n",
      "UserInfo_20:297\n",
      "\t\n"
     ]
    }
   ],
   "source": [
    "# 大小写统一\n",
    "#'UserupdateInfo1'包含了大小写，如\"qQ\"和\"QQ\",属于同一种意思，所以需要对其英文字符统一转换大小写。\n",
    "\n",
    "# 将UserupdateInfo1里的字符改为小写形式\n",
    "# df2['UserupdateInfo1'] = df2.UserupdateInfo1.map(lambda x:x.lower())"
   ]
  },
  {
   "cell_type": "markdown",
   "metadata": {},
   "source": [
    "## 2 特征处理\n",
    "\n",
    "- ```二值化```。具体方法请参考课程里的介绍\n",
    "- ```衍生特征```：比如户籍地和当前城市是否是同一个？ \n",
    "- ```特征的独热编码```：对于类别型特征使用独热编码形式\n",
    "- ```连续性特征的处理```：根据情况来处理\n",
    "- ```其他```: 根据情况，自行决定要不要做"
   ]
  },
  {
   "cell_type": "code",
   "execution_count": 57,
   "metadata": {},
   "outputs": [
    {
     "data": {
      "text/plain": [
       "中国移动     15050\n",
       "中国联通      4365\n",
       "不详        4097\n",
       "中国电信      1916\n",
       "中国移动      1718\n",
       "中国电信      1217\n",
       "中国联通       826\n",
       "Name: UserInfo_9, dtype: int64"
      ]
     },
     "execution_count": 57,
     "metadata": {},
     "output_type": "execute_result"
    }
   ],
   "source": [
    "data.UserInfo_9.value_counts()"
   ]
  },
  {
   "cell_type": "markdown",
   "metadata": {},
   "source": [
    "> #### 2. 特征选择\n",
    "200多个特征里可能有效的特征不会很多。在这里做特征选择相关的工作。 在特征选择这一块请使用```树```模型。 比如sklearn自带的特征选择模块（https://scikit-learn.org/stable/modules/feature_selection.html）， 或者直接使用XGBoost等模型来直接选择。 这些模型训练好之后你可以直接通过```feature_importance_values```属性来获取。"
   ]
  },
  {
   "cell_type": "code",
   "execution_count": null,
   "metadata": {},
   "outputs": [],
   "source": []
  },
  {
   "cell_type": "code",
   "execution_count": null,
   "metadata": {},
   "outputs": [],
   "source": []
  },
  {
   "cell_type": "code",
   "execution_count": null,
   "metadata": {},
   "outputs": [],
   "source": []
  },
  {
   "cell_type": "code",
   "execution_count": null,
   "metadata": {},
   "outputs": [],
   "source": []
  },
  {
   "cell_type": "code",
   "execution_count": null,
   "metadata": {},
   "outputs": [],
   "source": []
  },
  {
   "cell_type": "code",
   "execution_count": null,
   "metadata": {},
   "outputs": [],
   "source": []
  },
  {
   "cell_type": "markdown",
   "metadata": {},
   "source": [
    "> #### 3. XGBoost来训练风控模型，结果以AUC为准\n",
    "https://github.com/dmlc/xgboost   这是XGBoost library具体的地址, 具有详细的文档。 https://pypi.org/project/xgboost/ 里有安装的步骤。 试着去调一下它的超参数，使得得到最好的效果。 一定要注意不需要使用测试数据来训练。 最终的结果以测试数据上的AUC为标准。 "
   ]
  },
  {
   "cell_type": "code",
   "execution_count": 2,
   "metadata": {},
   "outputs": [],
   "source": [
    "data_test = pd.read_csv('data/Test/PPD_Master_GBK_2_Test_Set.csv',encoding='gb18030')\n"
   ]
  },
  {
   "cell_type": "code",
   "execution_count": null,
   "metadata": {},
   "outputs": [],
   "source": []
  },
  {
   "cell_type": "code",
   "execution_count": null,
   "metadata": {},
   "outputs": [],
   "source": []
  },
  {
   "cell_type": "code",
   "execution_count": null,
   "metadata": {},
   "outputs": [],
   "source": []
  },
  {
   "cell_type": "markdown",
   "metadata": {},
   "source": [
    "Reference:  \n",
    "GitHub https://github.com/wikke/ppdai_risk_evaluation  \n",
    "[Kesci“魔镜杯”风控算法大赛铜奖解决方案](https://blog.csdn.net/Bryan__/article/details/51190452)  \n",
    "知乎 [风控模型实战--\"魔镜杯\"风控算法大赛](https://zhuanlan.zhihu.com/p/56864235)"
   ]
  }
 ],
 "metadata": {
  "kernelspec": {
   "display_name": "Python 3",
   "language": "python",
   "name": "python3"
  },
  "language_info": {
   "codemirror_mode": {
    "name": "ipython",
    "version": 3
   },
   "file_extension": ".py",
   "mimetype": "text/x-python",
   "name": "python",
   "nbconvert_exporter": "python",
   "pygments_lexer": "ipython3",
   "version": "3.7.4"
  }
 },
 "nbformat": 4,
 "nbformat_minor": 2
}
