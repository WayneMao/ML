{
 "cells": [
  {
   "cell_type": "markdown",
   "metadata": {},
   "source": [
    "## 16 K-means：人人皆可用到的聚类算法\n",
    "### 16.1 理解K-means的计算流程\n",
    "\n",
    "**k-means是一种聚类算法，同时也是一种无监督算法。**  \n",
    "之后的内容是无监督学习算法。它不同于监督学习算法的是，输入样本是不带标签(label)的。\n",
    "\n",
    "即便没有样本标签，我们仍然可以做一些有价值的分析。举个例子，我们通常使用CRM(客户管理系统)来维护用户，并在系统里存储了每个用户的属性(年龄、地域等)。   \n",
    "当我们使用CRM系统做营销的时候，营销人员通常会根据用户的特性给用户做分层，然后做针对性的营销。比如对于年龄大于多少的用户采取邮件营销、对于北上广深的用户采用电话营销等。  \n",
    "这种分层的核心其实就是聚类分析，把所有的客户分成几大类，然后分别做处理。 当然，在上面的例子中，我们使用的是一种很简单的规则。但实际上，对于复杂度问题，规则本身其实是比较难想出来的。所以，这时候聚类算法就可以派上用场了！  \n",
    "\n"
   ]
  },
  {
   "cell_type": "code",
   "execution_count": null,
   "metadata": {},
   "outputs": [],
   "source": []
  },
  {
   "cell_type": "code",
   "execution_count": null,
   "metadata": {},
   "outputs": [],
   "source": []
  },
  {
   "cell_type": "markdown",
   "metadata": {},
   "source": [
    "Reference:  \n",
    "[聚类分析（一）：层次聚类算法](http://heathcliff.me/%E8%81%9A%E7%B1%BB%E5%88%86%E6%9E%90%EF%BC%88%E4%B8%80%EF%BC%89%EF%BC%9A%E5%B1%82%E6%AC%A1%E8%81%9A%E7%B1%BB%E7%AE%97%E6%B3%95/)  \n",
    "\n"
   ]
  }
 ],
 "metadata": {
  "kernelspec": {
   "display_name": "Python 3",
   "language": "python",
   "name": "python3"
  },
  "language_info": {
   "codemirror_mode": {
    "name": "ipython",
    "version": 3
   },
   "file_extension": ".py",
   "mimetype": "text/x-python",
   "name": "python",
   "nbconvert_exporter": "python",
   "pygments_lexer": "ipython3",
   "version": "3.7.4"
  }
 },
 "nbformat": 4,
 "nbformat_minor": 2
}
