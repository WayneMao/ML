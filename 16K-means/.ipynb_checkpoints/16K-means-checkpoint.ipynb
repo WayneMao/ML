{
 "cells": [
  {
   "cell_type": "markdown",
   "metadata": {},
   "source": [
    "## 16 K-means：人人皆可用到的聚类算法\n",
    "### 16.1 理解K-means的计算流程\n",
    "\n",
    "**k-means是一种聚类算法，同时也是一种无监督算法。**  \n",
    "之后的内容是无监督学习算法。它不同于监督学习算法的是，输入样本是不带标签(label)的。\n",
    "\n",
    "即便没有样本标签，我们仍然可以做一些有价值的分析。举个例子，我们通常使用CRM(客户管理系统)来维护用户，并在系统里存储了每个用户的属性(年龄、地域等)。   \n",
    "当我们使用CRM系统做营销的时候，营销人员通常会根据用户的特性给用户做分层，然后做针对性的营销。比如对于年龄大于多少的用户采取邮件营销、对于北上广深的用户采用电话营销等。  \n",
    "这种分层的核心其实就是聚类分析，把所有的客户分成几大类，然后分别做处理。 当然，在上面的例子中，我们使用的是一种很简单的规则。但实际上，对于复杂度问题，规则本身其实是比较难想出来的。所以，这时候聚类算法就可以派上用场了！  \n",
    "\n",
    "\n",
    "k-means算法可以用于**图片分割**把一个完整的图片分割为多个区域。聚类是根据像素来进行的，类似的像素点聚在了一起。  \n",
    "除了这些，k-means也可以用在压缩图片上，之后会看到相关的例子。  \n",
    "\n",
    "那接下来仔细来学习一下k-means算法的核心流程是怎样的。  \n",
    "K-means算法的过程其实就分两步:  \n",
    "- 1、 把每一个样本点归类为其中一个类别；  \n",
    "- 2、对于属于同一类的样本求出它们的中心点。  \n",
    "\n",
    "循环迭代式的方法,先随机初始化K个观察点作为初始的均值点，  \n",
    "1.再计算各个点和这个均值点的距离，把每个样本点归类为其中一个类别；  \n",
    "2.对于属于同一类的样本求出它们的中心点。 \n",
    "最后重复1,2步骤，直到计算出来的中心点不再变化。\n"
   ]
  },
  {
   "cell_type": "code",
   "execution_count": 12,
   "metadata": {},
   "outputs": [
    {
     "name": "stdout",
     "output_type": "stream",
     "text": [
      "初始化之后的中心点：\n",
      "[[1. 2.]\n",
      " [5. 1.]\n",
      " [3. 7.]]\n"
     ]
    },
    {
     "data": {
      "image/png": "[encoded data removed]",
      "text/plain": [
       "<Figure size 432x288 with 1 Axes>"
      ]
     },
     "metadata": {
      "needs_background": "light"
     },
     "output_type": "display_data"
    }
   ],
   "source": [
    "from copy import deepcopy\n",
    "import numpy as np\n",
    "import pandas as pd\n",
    "import matplotlib.pyplot as plt\n",
    "\n",
    "k =3\n",
    "\n",
    "# 随机初始化k个中心，结果存储在C\n",
    "X = np.random.random((200,2))*10\n",
    "C_x = np.random.randint(0,np.max(X),size=k)\n",
    "C_y = np.random.randint(0,np.max(X),size=k)\n",
    "C = np.array(list(zip(C_x,C_y)),dtype=np.float32)\n",
    "\n",
    "print(\"初始化之后的中心点：\")\n",
    "print(C)\n",
    "\n",
    "# show center point\n",
    "plt.scatter(X[:,0],X[:,1],c=\"#050505\",s=7)\n",
    "plt.scatter(C[:,0],C[:,1],marker='*',c=\"g\",s=300)\n",
    "\n",
    "# 非存储之前的中心点\n",
    "C_old  = np.zeros(C.shape)\n",
    "clusters = np.zeros(len(X))\n",
    "\n",
    "def dist(a,b,ax=1):\n",
    "    return np.linalg.norm(a -b, axis=ax)\n",
    "\n",
    "error = dist(C,C_old,None)\n",
    "\n"
   ]
  },
  {
   "cell_type": "code",
   "execution_count": 13,
   "metadata": {},
   "outputs": [
    {
     "data": {
      "text/plain": [
       "<matplotlib.collections.PathCollection at 0x7fa4183d7750>"
      ]
     },
     "execution_count": 13,
     "metadata": {},
     "output_type": "execute_result"
    },
    {
     "data": {
      "image/png": "[encoded data removed]",
      "text/plain": [
       "<Figure size 432x288 with 1 Axes>"
      ]
     },
     "metadata": {
      "needs_background": "light"
     },
     "output_type": "display_data"
    }
   ],
   "source": [
    "# 循环算法，直到收敛。收敛条件：\n",
    "# 判断当前中心点和之前中心点之间没有变化，距离变为0，然后抛出异常\n",
    "while error!=0:\n",
    "    # Assigning each value to list closest cluster\n",
    "    for i in range(len(X)):\n",
    "        distences = dist(X[i],C)\n",
    "        cluster = np.argmin(distences)\n",
    "        clusters[i] = cluster\n",
    "    # 在计算新的中心点之前，保存旧的中心点， 以便计算距离\n",
    "    C_old = deepcopy(C)\n",
    "    # 计算新的中心点\n",
    "    for i in range(k):\n",
    "        points = [X[j] for j in range(len(X)) if clusters[j] == i]\n",
    "        C[i] = np.mean(points,axis=0)\n",
    "    error = dist(C,C_old,None)\n",
    "\n",
    "colors = ['r','g','b','y','c','m']\n",
    "fig,ax = plt.subplots()\n",
    "for i in range(k):\n",
    "    points = np.array([X[j] for j in range(len(X)) if clusters[j] == i])\n",
    "    ax.scatter(points[:,0],points[:,1],s=7,c=colors[i])\n",
    "ax.scatter(C[:,0],C[:,1],marker='*',s=200,c='#050505')\n"
   ]
  },
  {
   "cell_type": "markdown",
   "metadata": {},
   "source": [
    "### 16.2 K-means的细节\n",
    "\n",
    "K-means的目标函数，具有两组不同的参数。   \n",
    "\n",
    "对于k-means的目标函数我们通常使用交替优化的方法。前面已经说过，目标函数里有两组不同的参数。我们可以分别对其中的每一组参数优化，但这时候相当于把另外一组参数当做是已知的就可以了。  \n",
    "\n",
    "**不同的初始化会带来不同的结果。**  \n",
    "问题的本质在于我们每次得到的不是全局最优解，而是**局部最优解**！  \n",
    "类似的现象也会发生在神经网络当中，不同的初始化结果会带来不一样的结果。所以当我们使用神经网络的时候会通过一些技巧去更好地初始化参数的。因为，对于这类的模型，好的初始化值会带来更好的最终结果的，也相当于得到了更好的局部最优解。  \n",
    "那为什么k-means只能得到局部最优解呢？ 其核心是**非凸函数**。 如果一个目标函数是非凸函数，那我们其实不能保证或者没有办法得到全局最优解的！  \n"
   ]
  },
  {
   "cell_type": "markdown",
   "metadata": {},
   "source": [
    "### 16.3 Vector Quantization\n",
    "Vector Quantization(矢量量化)可以用来压缩图片。  \n",
    "\n"
   ]
  },
  {
   "cell_type": "code",
   "execution_count": 1,
   "metadata": {},
   "outputs": [
    {
     "name": "stdout",
     "output_type": "stream",
     "text": [
      "(1080, 1920, 3)\n"
     ]
    },
    {
     "data": {
      "text/plain": [
       "<matplotlib.image.AxesImage at 0x7efd04f03dd0>"
      ]
     },
     "execution_count": 1,
     "metadata": {},
     "output_type": "execute_result"
    }
   ],
   "source": [
    "from pylab import imread,imshow,figure,show,subplot\n",
    "import numpy as np\n",
    "from sklearn.cluster import KMeans\n",
    "from copy import deepcopy\n",
    "\n",
    "img = imread('demo2.jpg') # 图片太大了，运行时间过长\n",
    "\n",
    "# 把三维矩阵转换成二维的矩阵\n",
    "pixel = np.reshape(img,(img.shape[0]*img.shape[1],3))\n",
    "pixel_new = deepcopy(pixel)\n",
    "\n",
    "print(img.shape)\n",
    "\n",
    "# 创建k-mean模型，可以试着改一下 n_clusters参数试试\n",
    "model = KMeans(n_clusters=3)\n",
    "labels = model.fit_predict(pixel)\n",
    "palette = model.cluster_centers_\n",
    "\n",
    "\n",
    "for i in range(len(pixel)):\n",
    "    pixel_new[i,:] = palette[labels[i]]\n",
    "    \n",
    "# 展示重新构造的图片 (压缩后的图片)\n",
    "imshow(np.reshape(pixel_new,(img.shape[0],img.shape[1],3)))"
   ]
  },
  {
   "cell_type": "code",
   "execution_count": null,
   "metadata": {},
   "outputs": [],
   "source": []
  },
  {
   "cell_type": "markdown",
   "metadata": {},
   "source": [
    "Reference:  \n",
    "[聚类分析（一）：层次聚类算法](http://heathcliff.me/%E8%81%9A%E7%B1%BB%E5%88%86%E6%9E%90%EF%BC%88%E4%B8%80%EF%BC%89%EF%BC%9A%E5%B1%82%E6%AC%A1%E8%81%9A%E7%B1%BB%E7%AE%97%E6%B3%95/)  \n",
    "\n"
   ]
  }
 ],
 "metadata": {
  "kernelspec": {
   "display_name": "Python 3",
   "language": "python",
   "name": "python3"
  },
  "language_info": {
   "codemirror_mode": {
    "name": "ipython",
    "version": 3
   },
   "file_extension": ".py",
   "mimetype": "text/x-python",
   "name": "python",
   "nbconvert_exporter": "python",
   "pygments_lexer": "ipython3",
   "version": "3.7.4"
  }
 },
 "nbformat": 4,
 "nbformat_minor": 2
}
